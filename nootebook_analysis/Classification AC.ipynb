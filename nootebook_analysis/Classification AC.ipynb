{
 "cells": [
  {
   "cell_type": "markdown",
   "id": "55cdd71c",
   "metadata": {},
   "source": [
    "# Classification problem"
   ]
  },
  {
   "cell_type": "markdown",
   "id": "0bfc21d2",
   "metadata": {},
   "source": [
    "## The problem that has been chosen is about the water quality, given a set of data <br>we have to be able to classify if a given type of water is drinkable or not, so it is a binary classification problem, with labeled data (supervised)."
   ]
  },
  {
   "cell_type": "markdown",
   "id": "376361c1",
   "metadata": {},
   "source": [
    "### the original data can be downloaded for free from kaggle in this link <br> https://www.kaggle.com/datasets/nayanack/water-probability?resource=download"
   ]
  },
  {
   "cell_type": "markdown",
   "id": "6a786294",
   "metadata": {},
   "source": [
    "### Importing the libraries and the data"
   ]
  },
  {
   "cell_type": "code",
   "execution_count": 69,
   "id": "e656ecd3",
   "metadata": {},
   "outputs": [],
   "source": [
    "import pandas as pd\n",
    "import numpy as np\n",
    "import seaborn as sns\n",
    "import matplotlib.pyplot as plt\n",
    "import os\n",
    "from scipy.stats import entropy\n",
    "from scipy import stats\n",
    "from math import log\n",
    "from math import exp\n"
   ]
  },
  {
   "cell_type": "code",
   "execution_count": null,
   "id": "b2505e25",
   "metadata": {},
   "outputs": [],
   "source": []
  },
  {
   "cell_type": "code",
   "execution_count": 70,
   "id": "35f5aac5",
   "metadata": {},
   "outputs": [
    {
     "data": {
      "text/html": [
       "<div>\n",
       "<style scoped>\n",
       "    .dataframe tbody tr th:only-of-type {\n",
       "        vertical-align: middle;\n",
       "    }\n",
       "\n",
       "    .dataframe tbody tr th {\n",
       "        vertical-align: top;\n",
       "    }\n",
       "\n",
       "    .dataframe thead th {\n",
       "        text-align: right;\n",
       "    }\n",
       "</style>\n",
       "<table border=\"1\" class=\"dataframe\">\n",
       "  <thead>\n",
       "    <tr style=\"text-align: right;\">\n",
       "      <th></th>\n",
       "      <th>ph</th>\n",
       "      <th>Hardness</th>\n",
       "      <th>Solids</th>\n",
       "      <th>Chloramines</th>\n",
       "      <th>Sulfate</th>\n",
       "      <th>Conductivity</th>\n",
       "      <th>Organic_carbon</th>\n",
       "      <th>Trihalomethanes</th>\n",
       "      <th>Turbidity</th>\n",
       "      <th>Potability</th>\n",
       "    </tr>\n",
       "  </thead>\n",
       "  <tbody>\n",
       "    <tr>\n",
       "      <th>0</th>\n",
       "      <td>NaN</td>\n",
       "      <td>204.890455</td>\n",
       "      <td>20791.318981</td>\n",
       "      <td>7.300212</td>\n",
       "      <td>368.516441</td>\n",
       "      <td>564.308654</td>\n",
       "      <td>10.379783</td>\n",
       "      <td>86.990970</td>\n",
       "      <td>2.963135</td>\n",
       "      <td>0</td>\n",
       "    </tr>\n",
       "    <tr>\n",
       "      <th>1</th>\n",
       "      <td>3.716080</td>\n",
       "      <td>129.422921</td>\n",
       "      <td>18630.057858</td>\n",
       "      <td>6.635246</td>\n",
       "      <td>NaN</td>\n",
       "      <td>592.885359</td>\n",
       "      <td>15.180013</td>\n",
       "      <td>56.329076</td>\n",
       "      <td>4.500656</td>\n",
       "      <td>0</td>\n",
       "    </tr>\n",
       "    <tr>\n",
       "      <th>2</th>\n",
       "      <td>8.099124</td>\n",
       "      <td>224.236259</td>\n",
       "      <td>19909.541732</td>\n",
       "      <td>9.275884</td>\n",
       "      <td>NaN</td>\n",
       "      <td>418.606213</td>\n",
       "      <td>16.868637</td>\n",
       "      <td>66.420093</td>\n",
       "      <td>3.055934</td>\n",
       "      <td>0</td>\n",
       "    </tr>\n",
       "    <tr>\n",
       "      <th>3</th>\n",
       "      <td>8.316766</td>\n",
       "      <td>214.373394</td>\n",
       "      <td>22018.417441</td>\n",
       "      <td>8.059332</td>\n",
       "      <td>356.886136</td>\n",
       "      <td>363.266516</td>\n",
       "      <td>18.436524</td>\n",
       "      <td>100.341674</td>\n",
       "      <td>4.628771</td>\n",
       "      <td>0</td>\n",
       "    </tr>\n",
       "    <tr>\n",
       "      <th>4</th>\n",
       "      <td>9.092223</td>\n",
       "      <td>181.101509</td>\n",
       "      <td>17978.986339</td>\n",
       "      <td>6.546600</td>\n",
       "      <td>310.135738</td>\n",
       "      <td>398.410813</td>\n",
       "      <td>11.558279</td>\n",
       "      <td>31.997993</td>\n",
       "      <td>4.075075</td>\n",
       "      <td>0</td>\n",
       "    </tr>\n",
       "  </tbody>\n",
       "</table>\n",
       "</div>"
      ],
      "text/plain": [
       "         ph    Hardness        Solids  Chloramines     Sulfate  Conductivity  \\\n",
       "0       NaN  204.890455  20791.318981     7.300212  368.516441    564.308654   \n",
       "1  3.716080  129.422921  18630.057858     6.635246         NaN    592.885359   \n",
       "2  8.099124  224.236259  19909.541732     9.275884         NaN    418.606213   \n",
       "3  8.316766  214.373394  22018.417441     8.059332  356.886136    363.266516   \n",
       "4  9.092223  181.101509  17978.986339     6.546600  310.135738    398.410813   \n",
       "\n",
       "   Organic_carbon  Trihalomethanes  Turbidity  Potability  \n",
       "0       10.379783        86.990970   2.963135           0  \n",
       "1       15.180013        56.329076   4.500656           0  \n",
       "2       16.868637        66.420093   3.055934           0  \n",
       "3       18.436524       100.341674   4.628771           0  \n",
       "4       11.558279        31.997993   4.075075           0  "
      ]
     },
     "execution_count": 70,
     "metadata": {},
     "output_type": "execute_result"
    }
   ],
   "source": [
    "data = pd.read_csv(\"./data/water_potability.csv\", sep = ',')\n",
    "data.head()"
   ]
  },
  {
   "cell_type": "markdown",
   "id": "8ff2406a",
   "metadata": {},
   "source": [
    "### Exploratory analysis"
   ]
  },
  {
   "cell_type": "markdown",
   "id": "09ebfc21",
   "metadata": {},
   "source": [
    "cheching null values: "
   ]
  },
  {
   "cell_type": "code",
   "execution_count": 71,
   "id": "b127988e",
   "metadata": {},
   "outputs": [
    {
     "name": "stdout",
     "output_type": "stream",
     "text": [
      "<class 'pandas.core.frame.DataFrame'>\n",
      "RangeIndex: 3276 entries, 0 to 3275\n",
      "Data columns (total 10 columns):\n",
      " #   Column           Non-Null Count  Dtype  \n",
      "---  ------           --------------  -----  \n",
      " 0   ph               2785 non-null   float64\n",
      " 1   Hardness         3276 non-null   float64\n",
      " 2   Solids           3276 non-null   float64\n",
      " 3   Chloramines      3276 non-null   float64\n",
      " 4   Sulfate          2495 non-null   float64\n",
      " 5   Conductivity     3276 non-null   float64\n",
      " 6   Organic_carbon   3276 non-null   float64\n",
      " 7   Trihalomethanes  3114 non-null   float64\n",
      " 8   Turbidity        3276 non-null   float64\n",
      " 9   Potability       3276 non-null   int64  \n",
      "dtypes: float64(9), int64(1)\n",
      "memory usage: 256.1 KB\n"
     ]
    }
   ],
   "source": [
    "data.info()"
   ]
  },
  {
   "cell_type": "code",
   "execution_count": 72,
   "id": "5cb8ca57",
   "metadata": {},
   "outputs": [
    {
     "data": {
      "text/plain": [
       "ph                 491\n",
       "Hardness             0\n",
       "Solids               0\n",
       "Chloramines          0\n",
       "Sulfate            781\n",
       "Conductivity         0\n",
       "Organic_carbon       0\n",
       "Trihalomethanes    162\n",
       "Turbidity            0\n",
       "Potability           0\n",
       "dtype: int64"
      ]
     },
     "execution_count": 72,
     "metadata": {},
     "output_type": "execute_result"
    }
   ],
   "source": [
    "data.isnull().sum()"
   ]
  },
  {
   "cell_type": "code",
   "execution_count": 73,
   "id": "8039dda8",
   "metadata": {},
   "outputs": [],
   "source": [
    "rows_without_null = data.notnull().all(axis=1).sum()\n"
   ]
  },
  {
   "cell_type": "code",
   "execution_count": 74,
   "id": "62249d23",
   "metadata": {},
   "outputs": [
    {
     "name": "stdout",
     "output_type": "stream",
     "text": [
      "original rows: 3276 rows after eliminating the null values 1265. \n",
      "that mean losing the 61.39 % of the data\n"
     ]
    }
   ],
   "source": [
    "print(f\"original rows: {data.shape[0]} rows after eliminating the null values {data.shape[0] - rows_without_null}.\\\n",
    " \\nthat mean losing the {round((rows_without_null/data.shape[0])*100,2)} % of the data\")\n"
   ]
  },
  {
   "cell_type": "markdown",
   "id": "6fae683b",
   "metadata": {},
   "source": [
    "We cannot eliminate all the rows with null values, filling the missing data seems like a reasonable option. <br> Before using the mean for each column the data with the mean we have to check the outlier and the distribution of each series, because the mean can be a decieving mesure in those cases."
   ]
  },
  {
   "cell_type": "code",
   "execution_count": 75,
   "id": "99fc8fcd",
   "metadata": {},
   "outputs": [
    {
     "data": {
      "image/png": "[encoded data removed]",
      "text/plain": [
       "<Figure size 1008x360 with 1 Axes>"
      ]
     },
     "metadata": {
      "needs_background": "light"
     },
     "output_type": "display_data"
    }
   ],
   "source": [
    "data.boxplot(figsize = (14,5))\n",
    "plt.show()"
   ]
  },
  {
   "cell_type": "code",
   "execution_count": 76,
   "id": "0646a341",
   "metadata": {},
   "outputs": [
    {
     "data": {
      "image/png": "[encoded data removed]",
      "text/plain": [
       "<Figure size 1080x864 with 12 Axes>"
      ]
     },
     "metadata": {
      "needs_background": "light"
     },
     "output_type": "display_data"
    }
   ],
   "source": [
    "data.hist(figsize = (15,12))\n",
    "plt.show()"
   ]
  },
  {
   "cell_type": "code",
   "execution_count": 77,
   "id": "d15b0957",
   "metadata": {},
   "outputs": [
    {
     "data": {
      "text/plain": [
       "Index(['ph', 'Hardness', 'Solids', 'Chloramines', 'Sulfate', 'Conductivity',\n",
       "       'Organic_carbon', 'Trihalomethanes', 'Turbidity', 'Potability'],\n",
       "      dtype='object')"
      ]
     },
     "execution_count": 77,
     "metadata": {},
     "output_type": "execute_result"
    }
   ],
   "source": [
    "data.columns"
   ]
  },
  {
   "cell_type": "markdown",
   "id": "6eaed36c",
   "metadata": {},
   "source": [
    "the [solids] column contains outliers and is less symetrical than the rest of the variables that seem normaly distributed. <br>\n",
    "So it make sense to fill the data with the median that is a more robust extimator. <br>\n",
    "For all the other variables we can use the mean."
   ]
  },
  {
   "cell_type": "code",
   "execution_count": 78,
   "id": "6bf40b82",
   "metadata": {},
   "outputs": [],
   "source": [
    "data['Solids'] = data['Solids'].fillna(data['Solids'].median())\n",
    "data = data.fillna(data.mean())"
   ]
  },
  {
   "cell_type": "markdown",
   "id": "ae002da4",
   "metadata": {},
   "source": [
    "Checking if the classes are balanced or not"
   ]
  },
  {
   "cell_type": "code",
   "execution_count": 79,
   "id": "83a291ea",
   "metadata": {},
   "outputs": [
    {
     "data": {
      "text/plain": [
       "([<matplotlib.axis.XTick at 0x20d388adac0>,\n",
       "  <matplotlib.axis.XTick at 0x20d388ada90>],\n",
       " [Text(0, 0, ''), Text(0, 0, '')])"
      ]
     },
     "execution_count": 79,
     "metadata": {},
     "output_type": "execute_result"
    },
    {
     "data": {
      "image/png": "[encoded data removed]",
      "text/plain": [
       "<Figure size 432x288 with 1 Axes>"
      ]
     },
     "metadata": {
      "needs_background": "light"
     },
     "output_type": "display_data"
    }
   ],
   "source": [
    "counts = data['Potability'].value_counts()\n",
    "\n",
    "# Create count plot using matplotlib\n",
    "colors= ['salmon','lightgreen']\n",
    "\n",
    "plt.bar(counts.index, counts.values, color=colors )\n",
    "plt.xlabel('Potability')\n",
    "plt.ylabel('Count')\n",
    "plt.title('Count of Categories')\n",
    "plt.xticks([0, 1])"
   ]
  },
  {
   "cell_type": "code",
   "execution_count": 80,
   "id": "59feeab4",
   "metadata": {},
   "outputs": [
    {
     "name": "stdout",
     "output_type": "stream",
     "text": [
      "the data are mildy imbalaced cause we have a 39.01% of positive values.\n",
      "We need to take this into account in the moment of chosing the evaluation metrics\n"
     ]
    }
   ],
   "source": [
    "count_1 = (data['Potability']==1).sum()\n",
    "percentage_1 = round((count_1 / len(data['Potability'])*100),2)\n",
    "print(f\"the data are mildy imbalaced cause we have a {percentage_1}% of positive values.\\nWe need to take \\\n",
    "this into account in the moment of chosing the evaluation metrics\")"
   ]
  },
  {
   "cell_type": "markdown",
   "id": "ce385490",
   "metadata": {},
   "source": [
    "### Correlations analysis"
   ]
  },
  {
   "cell_type": "markdown",
   "id": "df251594",
   "metadata": {},
   "source": [
    "Since the target variable is binary we cannot use the Pearson's correlation but better use point biserial correlation coefficient, or the spearman ranking correalation instead.\n"
   ]
  },
  {
   "cell_type": "code",
   "execution_count": 81,
   "id": "5ce1a8ae",
   "metadata": {},
   "outputs": [],
   "source": [
    "# function to see it clearly what are the most correlated variables with our target variable\n",
    "def order_by_correlation_size(df: pd.DataFrame(),target_variable :str ='Potability'):\n",
    "    # order a df from based on the correlation with the target variable in a decreasing order.\n",
    "\n",
    "    correlation_matrix = df.corr(method='spearman')\n",
    "    max_correlation_with_target = correlation_matrix[target_variable].drop([target_variable]).abs().sort_values(ascending=False)\n",
    "    ordered_columns = max_correlation_with_target.index.tolist()\n",
    "    df = df[[target_variable] + ordered_columns]\n",
    "    return df"
   ]
  },
  {
   "cell_type": "code",
   "execution_count": 82,
   "id": "2426bf6f",
   "metadata": {},
   "outputs": [
    {
     "data": {
      "text/html": [
       "<div>\n",
       "<style scoped>\n",
       "    .dataframe tbody tr th:only-of-type {\n",
       "        vertical-align: middle;\n",
       "    }\n",
       "\n",
       "    .dataframe tbody tr th {\n",
       "        vertical-align: top;\n",
       "    }\n",
       "\n",
       "    .dataframe thead th {\n",
       "        text-align: right;\n",
       "    }\n",
       "</style>\n",
       "<table border=\"1\" class=\"dataframe\">\n",
       "  <thead>\n",
       "    <tr style=\"text-align: right;\">\n",
       "      <th></th>\n",
       "      <th>Potability</th>\n",
       "      <th>Organic_carbon</th>\n",
       "      <th>Solids</th>\n",
       "      <th>Chloramines</th>\n",
       "      <th>Sulfate</th>\n",
       "      <th>Hardness</th>\n",
       "      <th>Conductivity</th>\n",
       "      <th>Trihalomethanes</th>\n",
       "      <th>ph</th>\n",
       "      <th>Turbidity</th>\n",
       "    </tr>\n",
       "  </thead>\n",
       "  <tbody>\n",
       "    <tr>\n",
       "      <th>Potability</th>\n",
       "      <td>1.000000</td>\n",
       "      <td>-0.026774</td>\n",
       "      <td>0.026234</td>\n",
       "      <td>0.024980</td>\n",
       "      <td>-0.012522</td>\n",
       "      <td>-0.010606</td>\n",
       "      <td>-0.010386</td>\n",
       "      <td>0.005561</td>\n",
       "      <td>-0.003700</td>\n",
       "      <td>0.001088</td>\n",
       "    </tr>\n",
       "    <tr>\n",
       "      <th>Organic_carbon</th>\n",
       "      <td>-0.026774</td>\n",
       "      <td>1.000000</td>\n",
       "      <td>0.017881</td>\n",
       "      <td>-0.011910</td>\n",
       "      <td>0.012287</td>\n",
       "      <td>0.003340</td>\n",
       "      <td>0.021311</td>\n",
       "      <td>-0.007326</td>\n",
       "      <td>0.038681</td>\n",
       "      <td>-0.024730</td>\n",
       "    </tr>\n",
       "    <tr>\n",
       "      <th>Solids</th>\n",
       "      <td>0.026234</td>\n",
       "      <td>0.017881</td>\n",
       "      <td>1.000000</td>\n",
       "      <td>-0.055037</td>\n",
       "      <td>-0.130586</td>\n",
       "      <td>-0.052584</td>\n",
       "      <td>0.021089</td>\n",
       "      <td>-0.018985</td>\n",
       "      <td>-0.063675</td>\n",
       "      <td>0.028470</td>\n",
       "    </tr>\n",
       "    <tr>\n",
       "      <th>Chloramines</th>\n",
       "      <td>0.024980</td>\n",
       "      <td>-0.011910</td>\n",
       "      <td>-0.055037</td>\n",
       "      <td>1.000000</td>\n",
       "      <td>0.026533</td>\n",
       "      <td>-0.024556</td>\n",
       "      <td>-0.016928</td>\n",
       "      <td>0.017682</td>\n",
       "      <td>-0.036997</td>\n",
       "      <td>-0.007909</td>\n",
       "    </tr>\n",
       "    <tr>\n",
       "      <th>Sulfate</th>\n",
       "      <td>-0.012522</td>\n",
       "      <td>0.012287</td>\n",
       "      <td>-0.130586</td>\n",
       "      <td>0.026533</td>\n",
       "      <td>1.000000</td>\n",
       "      <td>-0.073857</td>\n",
       "      <td>-0.016552</td>\n",
       "      <td>-0.020319</td>\n",
       "      <td>0.022249</td>\n",
       "      <td>-0.016757</td>\n",
       "    </tr>\n",
       "    <tr>\n",
       "      <th>Hardness</th>\n",
       "      <td>-0.010606</td>\n",
       "      <td>0.003340</td>\n",
       "      <td>-0.052584</td>\n",
       "      <td>-0.024556</td>\n",
       "      <td>-0.073857</td>\n",
       "      <td>1.000000</td>\n",
       "      <td>-0.032884</td>\n",
       "      <td>-0.010295</td>\n",
       "      <td>0.106929</td>\n",
       "      <td>-0.012855</td>\n",
       "    </tr>\n",
       "    <tr>\n",
       "      <th>Conductivity</th>\n",
       "      <td>-0.010386</td>\n",
       "      <td>0.021311</td>\n",
       "      <td>0.021089</td>\n",
       "      <td>-0.016928</td>\n",
       "      <td>-0.016552</td>\n",
       "      <td>-0.032884</td>\n",
       "      <td>1.000000</td>\n",
       "      <td>-0.004260</td>\n",
       "      <td>0.013797</td>\n",
       "      <td>0.010342</td>\n",
       "    </tr>\n",
       "    <tr>\n",
       "      <th>Trihalomethanes</th>\n",
       "      <td>0.005561</td>\n",
       "      <td>-0.007326</td>\n",
       "      <td>-0.018985</td>\n",
       "      <td>0.017682</td>\n",
       "      <td>-0.020319</td>\n",
       "      <td>-0.010295</td>\n",
       "      <td>-0.004260</td>\n",
       "      <td>1.000000</td>\n",
       "      <td>0.006284</td>\n",
       "      <td>-0.027047</td>\n",
       "    </tr>\n",
       "    <tr>\n",
       "      <th>ph</th>\n",
       "      <td>-0.003700</td>\n",
       "      <td>0.038681</td>\n",
       "      <td>-0.063675</td>\n",
       "      <td>-0.036997</td>\n",
       "      <td>0.022249</td>\n",
       "      <td>0.106929</td>\n",
       "      <td>0.013797</td>\n",
       "      <td>0.006284</td>\n",
       "      <td>1.000000</td>\n",
       "      <td>-0.046972</td>\n",
       "    </tr>\n",
       "    <tr>\n",
       "      <th>Turbidity</th>\n",
       "      <td>0.001088</td>\n",
       "      <td>-0.024730</td>\n",
       "      <td>0.028470</td>\n",
       "      <td>-0.007909</td>\n",
       "      <td>-0.016757</td>\n",
       "      <td>-0.012855</td>\n",
       "      <td>0.010342</td>\n",
       "      <td>-0.027047</td>\n",
       "      <td>-0.046972</td>\n",
       "      <td>1.000000</td>\n",
       "    </tr>\n",
       "  </tbody>\n",
       "</table>\n",
       "</div>"
      ],
      "text/plain": [
       "                 Potability  Organic_carbon    Solids  Chloramines   Sulfate  \\\n",
       "Potability         1.000000       -0.026774  0.026234     0.024980 -0.012522   \n",
       "Organic_carbon    -0.026774        1.000000  0.017881    -0.011910  0.012287   \n",
       "Solids             0.026234        0.017881  1.000000    -0.055037 -0.130586   \n",
       "Chloramines        0.024980       -0.011910 -0.055037     1.000000  0.026533   \n",
       "Sulfate           -0.012522        0.012287 -0.130586     0.026533  1.000000   \n",
       "Hardness          -0.010606        0.003340 -0.052584    -0.024556 -0.073857   \n",
       "Conductivity      -0.010386        0.021311  0.021089    -0.016928 -0.016552   \n",
       "Trihalomethanes    0.005561       -0.007326 -0.018985     0.017682 -0.020319   \n",
       "ph                -0.003700        0.038681 -0.063675    -0.036997  0.022249   \n",
       "Turbidity          0.001088       -0.024730  0.028470    -0.007909 -0.016757   \n",
       "\n",
       "                 Hardness  Conductivity  Trihalomethanes        ph  Turbidity  \n",
       "Potability      -0.010606     -0.010386         0.005561 -0.003700   0.001088  \n",
       "Organic_carbon   0.003340      0.021311        -0.007326  0.038681  -0.024730  \n",
       "Solids          -0.052584      0.021089        -0.018985 -0.063675   0.028470  \n",
       "Chloramines     -0.024556     -0.016928         0.017682 -0.036997  -0.007909  \n",
       "Sulfate         -0.073857     -0.016552        -0.020319  0.022249  -0.016757  \n",
       "Hardness         1.000000     -0.032884        -0.010295  0.106929  -0.012855  \n",
       "Conductivity    -0.032884      1.000000        -0.004260  0.013797   0.010342  \n",
       "Trihalomethanes -0.010295     -0.004260         1.000000  0.006284  -0.027047  \n",
       "ph               0.106929      0.013797         0.006284  1.000000  -0.046972  \n",
       "Turbidity       -0.012855      0.010342        -0.027047 -0.046972   1.000000  "
      ]
     },
     "execution_count": 82,
     "metadata": {},
     "output_type": "execute_result"
    }
   ],
   "source": [
    "# the last column\n",
    "data = order_by_correlation_size(data)\n",
    "data.corr(method='spearman')"
   ]
  },
  {
   "cell_type": "code",
   "execution_count": 83,
   "id": "cb2adfbb",
   "metadata": {},
   "outputs": [
    {
     "name": "stdout",
     "output_type": "stream",
     "text": [
      "variable: Potability, PointbiserialrResult(correlation=0.9999999999999831, pvalue=0.0)\n",
      "variable: Organic_carbon, PointbiserialrResult(correlation=-0.030001366610944553, pvalue=0.08599746163831462)\n",
      "variable: Solids, PointbiserialrResult(correlation=0.033743313393649804, pvalue=0.053463638184233594)\n",
      "variable: Chloramines, PointbiserialrResult(correlation=0.023778971994669506, pvalue=0.1736102246498992)\n",
      "variable: Sulfate, PointbiserialrResult(correlation=-0.020619084357933606, pvalue=0.2380653660511171)\n",
      "variable: Hardness, PointbiserialrResult(correlation=-0.013836558085111373, pvalue=0.4285415874064298)\n",
      "variable: Conductivity, PointbiserialrResult(correlation=-0.00812831972154544, pvalue=0.6418845485941129)\n",
      "variable: Trihalomethanes, PointbiserialrResult(correlation=0.006960211364796229, pvalue=0.6904607285457369)\n",
      "variable: ph, PointbiserialrResult(correlation=-0.0032868434924190203, pvalue=0.8508330312674878)\n",
      "variable: Turbidity, PointbiserialrResult(correlation=0.0015806819539223205, pvalue=0.9279391620791434)\n"
     ]
    }
   ],
   "source": [
    "for col in data.columns:\n",
    "    print (f\"variable: {col}, {stats.pointbiserialr(x= data[col],y= data['Potability'])}\")"
   ]
  },
  {
   "cell_type": "markdown",
   "id": "6d03d1cf",
   "metadata": {},
   "source": [
    "The two kinds of correlations give similar results.<br>I am using the spearman correlation for visualization purpuses because it's faster to use cause it is already implemented in the pandas corr method. <br>\n",
    "Furthermore we can see that the values of the correlations against the target variables are very low and just the variables [Organic_carbon], [Solids] are significant if we chose an alpha = 0,1"
   ]
  },
  {
   "cell_type": "code",
   "execution_count": 84,
   "id": "22ea7767",
   "metadata": {},
   "outputs": [
    {
     "data": {
      "image/png": "[encoded data removed]",
      "text/plain": [
       "<Figure size 792x576 with 2 Axes>"
      ]
     },
     "metadata": {
      "needs_background": "light"
     },
     "output_type": "display_data"
    }
   ],
   "source": [
    "sns.heatmap(data.corr(method='spearman'), annot= True ,cmap='coolwarm', fmt=\".2f\")\n",
    "figure = plt.gcf()\n",
    "figure.set_size_inches(11,8)\n",
    "plt.show()"
   ]
  },
  {
   "cell_type": "code",
   "execution_count": 85,
   "id": "ae9bc146",
   "metadata": {},
   "outputs": [
    {
     "data": {
      "image/png": "[encoded data removed]",
      "text/plain": [
       "<Figure size 360x360 with 1 Axes>"
      ]
     },
     "metadata": {
      "needs_background": "light"
     },
     "output_type": "display_data"
    },
    {
     "data": {
      "image/png": "[encoded data removed]",
      "text/plain": [
       "<Figure size 360x360 with 1 Axes>"
      ]
     },
     "metadata": {
      "needs_background": "light"
     },
     "output_type": "display_data"
    },
    {
     "data": {
      "image/png": "[encoded data removed]",
      "text/plain": [
       "<Figure size 360x360 with 1 Axes>"
      ]
     },
     "metadata": {
      "needs_background": "light"
     },
     "output_type": "display_data"
    },
    {
     "data": {
      "image/png": "[encoded data removed]",
      "text/plain": [
       "<Figure size 360x360 with 1 Axes>"
      ]
     },
     "metadata": {
      "needs_background": "light"
     },
     "output_type": "display_data"
    },
    {
     "data": {
      "image/png": "[encoded data removed]",
      "text/plain": [
       "<Figure size 360x360 with 1 Axes>"
      ]
     },
     "metadata": {
      "needs_background": "light"
     },
     "output_type": "display_data"
    },
    {
     "data": {
      "image/png": "[encoded data removed]",
      "text/plain": [
       "<Figure size 360x360 with 1 Axes>"
      ]
     },
     "metadata": {
      "needs_background": "light"
     },
     "output_type": "display_data"
    },
    {
     "data": {
      "image/png": "[encoded data removed]",
      "text/plain": [
       "<Figure size 360x360 with 1 Axes>"
      ]
     },
     "metadata": {
      "needs_background": "light"
     },
     "output_type": "display_data"
    },
    {
     "data": {
      "image/png": "[encoded data removed]",
      "text/plain": [
       "<Figure size 360x360 with 1 Axes>"
      ]
     },
     "metadata": {
      "needs_background": "light"
     },
     "output_type": "display_data"
    },
    {
     "data": {
      "image/png": "[encoded data removed]",
      "text/plain": [
       "<Figure size 360x360 with 1 Axes>"
      ]
     },
     "metadata": {
      "needs_background": "light"
     },
     "output_type": "display_data"
    }
   ],
   "source": [
    "line_colors = ['r', 'g']  # Example colors, you can adjust as needed\n",
    "\n",
    "# Loop through each column (excluding \"Potability\")\n",
    "for col in data.columns:\n",
    "    if col != \"Potability\":\n",
    "        # Create catplot with stripplot instead of swarmplot\n",
    "        catplot = sns.catplot(data=data, x=\"Potability\", y=col, order=[0, 1], kind=\"strip\")\n",
    "        \n",
    "        # Calculate mean of each group\n",
    "        means = data.groupby('Potability')[col].mean()\n",
    "        \n",
    "        # Plot horizontal lines representing the mean of each group\n",
    "        for i, (mean, color) in enumerate(zip(means, line_colors)):\n",
    "            plt.axhline(mean, color=color, linestyle='--', label=f'Mean Group {i}')\n",
    "        \n",
    "        # Show plot\n",
    "        plt.legend()\n",
    "        plt.show()"
   ]
  },
  {
   "cell_type": "markdown",
   "id": "ba5395b8",
   "metadata": {},
   "source": [
    "The variable distributions conditioned to the seems not to vary much if conditioned to the target value variable.<br>\n",
    "It is unuseful to make some Anova because we will already know that there is not any statistically significant difference in between\n",
    "the conditionated distribution, So we can try some feature transformations in order to find stronger relationships."
   ]
  },
  {
   "cell_type": "markdown",
   "id": "6391d772",
   "metadata": {},
   "source": [
    "### Feature transformations"
   ]
  },
  {
   "cell_type": "markdown",
   "id": "baa6ebcc",
   "metadata": {},
   "source": [
    "the 1st test we can do is to remove the outliers value to the [Solids] variable and check the new value of correlation: \n"
   ]
  },
  {
   "cell_type": "code",
   "execution_count": 86,
   "id": "a9682a36",
   "metadata": {},
   "outputs": [],
   "source": [
    "def replace_outliers(df: pd.DataFrame(), column_name:str):\n",
    "    # this function use interquartilic distance to substitute the oultiers with the threshol value used to detect the outliers\n",
    "    df1= df[[column_name]].copy()\n",
    "    # Calculate the first quartile (Q1) and third quartile (Q3)\n",
    "    \n",
    "    Q1 = df[column_name].quantile(0.25)\n",
    "    Q3 = df[column_name].quantile(0.75)\n",
    "\n",
    "    # Calculate the interquartile range (IQR)\n",
    "    IQR = Q3 - Q1\n",
    "    outlier_threshold = 1.5 * IQR\n",
    "    df1[column_name] = np.where(df[column_name] > Q3 + outlier_threshold , Q3 + outlier_threshold, df[column_name]).copy()\n",
    "    df1[column_name] = np.where(df[column_name] < Q1 - outlier_threshold, Q1 - outlier_threshold, df1[column_name])\n",
    "    return df1[column_name]"
   ]
  },
  {
   "cell_type": "code",
   "execution_count": 87,
   "id": "3c8d402d",
   "metadata": {},
   "outputs": [],
   "source": [
    "Solid_original = data['Solids']\n",
    "Solid_no_outlier= replace_outliers(data,'Solids')"
   ]
  },
  {
   "cell_type": "code",
   "execution_count": 88,
   "id": "c365733d",
   "metadata": {},
   "outputs": [
    {
     "data": {
      "text/plain": [
       "47"
      ]
     },
     "execution_count": 88,
     "metadata": {},
     "output_type": "execute_result"
    }
   ],
   "source": [
    "(Solid_original != Solid_no_outlier).sum()"
   ]
  },
  {
   "cell_type": "code",
   "execution_count": 89,
   "id": "a126aeb9",
   "metadata": {},
   "outputs": [
    {
     "data": {
      "image/png": "[encoded data removed]",
      "text/plain": [
       "<Figure size 432x288 with 1 Axes>"
      ]
     },
     "metadata": {
      "needs_background": "light"
     },
     "output_type": "display_data"
    }
   ],
   "source": [
    "# Create a figure and axis object\n",
    "fig, ax = plt.subplots()\n",
    "\n",
    "# Create boxplots for both Series on the same axis\n",
    "ax.boxplot([Solid_original, Solid_no_outlier])\n",
    "\n",
    "# Add title and labels\n",
    "ax.set_title('Boxplots of Two Series')\n",
    "ax.set_xlabel('Series')\n",
    "ax.set_ylabel('Values')\n",
    "\n",
    "# Set x-axis tick labels\n",
    "ax.set_xticklabels(['Solid_original 1', 'Solid_no_outlier 2'])\n",
    "\n",
    "# Show plot\n",
    "plt.show()"
   ]
  },
  {
   "cell_type": "code",
   "execution_count": 90,
   "id": "54b525d1",
   "metadata": {},
   "outputs": [
    {
     "name": "stdout",
     "output_type": "stream",
     "text": [
      "variable:Solid_original, PointbiserialrResult(correlation=0.033743313393649804, pvalue=0.053463638184233594)\n",
      "variable:Solid_no_outlier, PointbiserialrResult(correlation=0.031846909749484384, pvalue=0.06836891017075605)\n"
     ]
    }
   ],
   "source": [
    "print (f\"variable:Solid_original, {stats.pointbiserialr(Solid_original, y=data['Potability'] )}\")\n",
    "print (f\"variable:Solid_no_outlier, {stats.pointbiserialr(Solid_no_outlier, y=data['Potability'] )}\")"
   ]
  },
  {
   "cell_type": "markdown",
   "id": "e6308b59",
   "metadata": {},
   "source": [
    "The ouliers treatment doesn't improve the performance we will have to try some other transformations. <br>\n",
    "Let us create a matrix with all the original correlations values that will be compared with the new coefficients obtained from the transformed variables."
   ]
  },
  {
   "cell_type": "code",
   "execution_count": 91,
   "id": "2f7f5233",
   "metadata": {},
   "outputs": [],
   "source": [
    "def compute_corr_point_benchmark(df: pd.DataFrame(), column_name:str, target_var:str='Potability'):\n",
    "    dict_var = {}\n",
    "    if column != 'Potability':  # Exclude 'Potability' column\n",
    "        correlation, p_value = stats.pointbiserialr(x=data[column], y=data['Potability'] )\n",
    "        dict_var[column] = (correlation)\n",
    "    df_results = pd.DataFrame.from_dict(pointbiserial_dict, orient='index', columns=['Correlation_original'])\n",
    "    return df_results[column]"
   ]
  },
  {
   "cell_type": "code",
   "execution_count": 92,
   "id": "ec618db4",
   "metadata": {},
   "outputs": [
    {
     "data": {
      "text/html": [
       "<div>\n",
       "<style scoped>\n",
       "    .dataframe tbody tr th:only-of-type {\n",
       "        vertical-align: middle;\n",
       "    }\n",
       "\n",
       "    .dataframe tbody tr th {\n",
       "        vertical-align: top;\n",
       "    }\n",
       "\n",
       "    .dataframe thead th {\n",
       "        text-align: right;\n",
       "    }\n",
       "</style>\n",
       "<table border=\"1\" class=\"dataframe\">\n",
       "  <thead>\n",
       "    <tr style=\"text-align: right;\">\n",
       "      <th></th>\n",
       "      <th>Correlation_original</th>\n",
       "    </tr>\n",
       "  </thead>\n",
       "  <tbody>\n",
       "    <tr>\n",
       "      <th>Organic_carbon</th>\n",
       "      <td>-0.030001</td>\n",
       "    </tr>\n",
       "    <tr>\n",
       "      <th>Solids</th>\n",
       "      <td>0.033743</td>\n",
       "    </tr>\n",
       "    <tr>\n",
       "      <th>Chloramines</th>\n",
       "      <td>0.023779</td>\n",
       "    </tr>\n",
       "    <tr>\n",
       "      <th>Sulfate</th>\n",
       "      <td>-0.020619</td>\n",
       "    </tr>\n",
       "    <tr>\n",
       "      <th>Hardness</th>\n",
       "      <td>-0.013837</td>\n",
       "    </tr>\n",
       "    <tr>\n",
       "      <th>Conductivity</th>\n",
       "      <td>-0.008128</td>\n",
       "    </tr>\n",
       "    <tr>\n",
       "      <th>Trihalomethanes</th>\n",
       "      <td>0.006960</td>\n",
       "    </tr>\n",
       "    <tr>\n",
       "      <th>ph</th>\n",
       "      <td>-0.003287</td>\n",
       "    </tr>\n",
       "    <tr>\n",
       "      <th>Turbidity</th>\n",
       "      <td>0.001581</td>\n",
       "    </tr>\n",
       "  </tbody>\n",
       "</table>\n",
       "</div>"
      ],
      "text/plain": [
       "                 Correlation_original\n",
       "Organic_carbon              -0.030001\n",
       "Solids                       0.033743\n",
       "Chloramines                  0.023779\n",
       "Sulfate                     -0.020619\n",
       "Hardness                    -0.013837\n",
       "Conductivity                -0.008128\n",
       "Trihalomethanes              0.006960\n",
       "ph                          -0.003287\n",
       "Turbidity                    0.001581"
      ]
     },
     "execution_count": 92,
     "metadata": {},
     "output_type": "execute_result"
    }
   ],
   "source": [
    "\n",
    "# Calculate point-biserial correlation for each column\n",
    "dict_var = {}\n",
    "for column in data.columns:\n",
    "    if column != 'Potability':\n",
    "        correlation, p_value = stats.pointbiserialr(x=data[column], y=data['Potability'] )\n",
    "        dict_var[column] = (correlation)\n",
    "df_benchmark = pd.DataFrame.from_dict(dict_var, orient='index', columns=['Correlation_original'])\n",
    "\n",
    "df_benchmark\n"
   ]
  },
  {
   "cell_type": "markdown",
   "id": "9bc5c14c",
   "metadata": {},
   "source": [
    "For each independent variable we try several transformation, like quadratic, cubic or logaritmic"
   ]
  },
  {
   "cell_type": "code",
   "execution_count": 93,
   "id": "32b88efa",
   "metadata": {},
   "outputs": [
    {
     "name": "stderr",
     "output_type": "stream",
     "text": [
      "C:\\Users\\acanino\\AppData\\Local\\Temp\\ipykernel_22784\\3345887481.py:26: PerformanceWarning: DataFrame is highly fragmented.  This is usually the result of calling `frame.insert` many times, which has poor performance.  Consider joining all columns at once using pd.concat(axis=1) instead. To get a de-fragmented frame, use `newframe = frame.copy()`\n",
      "  df_trans[var+trans_type] = df_trans[var].apply(lambda x: x - data[var].mean() )\n",
      "C:\\Users\\acanino\\AppData\\Local\\Temp\\ipykernel_22784\\3345887481.py:36: PerformanceWarning: DataFrame is highly fragmented.  This is usually the result of calling `frame.insert` many times, which has poor performance.  Consider joining all columns at once using pd.concat(axis=1) instead. To get a de-fragmented frame, use `newframe = frame.copy()`\n",
      "  df_trans[var+trans_type] = df_trans[var].apply(lambda x: exp(x) if abs(x) < 500 else None)\n",
      "C:\\Users\\acanino\\AppData\\Local\\Temp\\ipykernel_22784\\3345887481.py:36: PerformanceWarning: DataFrame is highly fragmented.  This is usually the result of calling `frame.insert` many times, which has poor performance.  Consider joining all columns at once using pd.concat(axis=1) instead. To get a de-fragmented frame, use `newframe = frame.copy()`\n",
      "  df_trans[var+trans_type] = df_trans[var].apply(lambda x: exp(x) if abs(x) < 500 else None)\n",
      "C:\\Users\\acanino\\AppData\\Local\\Temp\\ipykernel_22784\\3345887481.py:36: PerformanceWarning: DataFrame is highly fragmented.  This is usually the result of calling `frame.insert` many times, which has poor performance.  Consider joining all columns at once using pd.concat(axis=1) instead. To get a de-fragmented frame, use `newframe = frame.copy()`\n",
      "  df_trans[var+trans_type] = df_trans[var].apply(lambda x: exp(x) if abs(x) < 500 else None)\n",
      "C:\\Users\\acanino\\AppData\\Local\\Temp\\ipykernel_22784\\3345887481.py:36: PerformanceWarning: DataFrame is highly fragmented.  This is usually the result of calling `frame.insert` many times, which has poor performance.  Consider joining all columns at once using pd.concat(axis=1) instead. To get a de-fragmented frame, use `newframe = frame.copy()`\n",
      "  df_trans[var+trans_type] = df_trans[var].apply(lambda x: exp(x) if abs(x) < 500 else None)\n",
      "C:\\Users\\acanino\\AppData\\Local\\Temp\\ipykernel_22784\\3345887481.py:36: PerformanceWarning: DataFrame is highly fragmented.  This is usually the result of calling `frame.insert` many times, which has poor performance.  Consider joining all columns at once using pd.concat(axis=1) instead. To get a de-fragmented frame, use `newframe = frame.copy()`\n",
      "  df_trans[var+trans_type] = df_trans[var].apply(lambda x: exp(x) if abs(x) < 500 else None)\n",
      "C:\\Users\\acanino\\AppData\\Local\\Temp\\ipykernel_22784\\3345887481.py:36: PerformanceWarning: DataFrame is highly fragmented.  This is usually the result of calling `frame.insert` many times, which has poor performance.  Consider joining all columns at once using pd.concat(axis=1) instead. To get a de-fragmented frame, use `newframe = frame.copy()`\n",
      "  df_trans[var+trans_type] = df_trans[var].apply(lambda x: exp(x) if abs(x) < 500 else None)\n",
      "C:\\Users\\acanino\\AppData\\Local\\Temp\\ipykernel_22784\\3345887481.py:36: PerformanceWarning: DataFrame is highly fragmented.  This is usually the result of calling `frame.insert` many times, which has poor performance.  Consider joining all columns at once using pd.concat(axis=1) instead. To get a de-fragmented frame, use `newframe = frame.copy()`\n",
      "  df_trans[var+trans_type] = df_trans[var].apply(lambda x: exp(x) if abs(x) < 500 else None)\n",
      "C:\\Users\\acanino\\AppData\\Local\\Temp\\ipykernel_22784\\3345887481.py:36: PerformanceWarning: DataFrame is highly fragmented.  This is usually the result of calling `frame.insert` many times, which has poor performance.  Consider joining all columns at once using pd.concat(axis=1) instead. To get a de-fragmented frame, use `newframe = frame.copy()`\n",
      "  df_trans[var+trans_type] = df_trans[var].apply(lambda x: exp(x) if abs(x) < 500 else None)\n",
      "C:\\Users\\acanino\\AppData\\Local\\Temp\\ipykernel_22784\\3345887481.py:36: PerformanceWarning: DataFrame is highly fragmented.  This is usually the result of calling `frame.insert` many times, which has poor performance.  Consider joining all columns at once using pd.concat(axis=1) instead. To get a de-fragmented frame, use `newframe = frame.copy()`\n",
      "  df_trans[var+trans_type] = df_trans[var].apply(lambda x: exp(x) if abs(x) < 500 else None)\n"
     ]
    }
   ],
   "source": [
    "# identifying the columns that need to be scaled before computing the exponential.\n",
    "col_high_value = [\"Sulfate\",\"Solids\",\"Hardness\",\"Conductivity\",\"Trihalomethanes\"]\n",
    "\n",
    "df_trans = data.copy()\n",
    "col_selected = [x for x in data.columns if x !='Potability']\n",
    "# quadratic and cubic\n",
    "trans_type = \"_power_\"\n",
    "# deciding the degree of power in this loop\n",
    "for power in range(2,10):\n",
    "    for var in col_selected:\n",
    "        df_trans[var+trans_type+str(power)] = df_trans[var].apply(lambda x: x ** power)\n",
    "# squared root\n",
    "trans_type = \"_sq_root\"       \n",
    "for var in col_selected:\n",
    "    df_trans[var+trans_type] = df_trans[var].apply(lambda x: x ** 0,5)\n",
    "    \n",
    "# logatirmic\n",
    "trans_type = \"_log\"        \n",
    "for var in col_selected:\n",
    "    df_trans[var+trans_type] = df_trans[var].apply(lambda x: log(x) if x > 0 else None)\n",
    "    df_trans[var+trans_type].fillna(df_trans[var+trans_type].mean())\n",
    "\n",
    "#subtracting the mean for each variable\n",
    "trans_type = \"centered\"\n",
    "for var in col_selected:\n",
    "    df_trans[var+trans_type] = df_trans[var].apply(lambda x: x - data[var].mean() )\n",
    "\n",
    "\n",
    "#exponential \n",
    "trans_type = \"_exp\"\n",
    "for var in col_selected:\n",
    "    # transforming for a constant to avoid values too big to compute\n",
    "    if var in col_high_value:\n",
    "        df_trans[var] = df_trans[var].apply(lambda x: x / 100)\n",
    "\n",
    "    df_trans[var+trans_type] = df_trans[var].apply(lambda x: exp(x) if abs(x) < 500 else None)\n",
    "    df_trans[var+trans_type].fillna(df_trans[var+trans_type].mean())\n"
   ]
  },
  {
   "cell_type": "markdown",
   "id": "346de205",
   "metadata": {},
   "source": [
    "Another kind of transformation that could be tried is to create categorical variables. <br>\n",
    "This is not included for time constraints."
   ]
  },
  {
   "cell_type": "code",
   "execution_count": 94,
   "id": "5728204d",
   "metadata": {},
   "outputs": [
    {
     "name": "stdout",
     "output_type": "stream",
     "text": [
      "Number of null values: 2\n"
     ]
    }
   ],
   "source": [
    "num_null_values = df_trans.isna().any().sum()\n",
    "\n",
    "print(\"Number of null values:\", num_null_values)"
   ]
  },
  {
   "cell_type": "code",
   "execution_count": 95,
   "id": "6c3faa8d",
   "metadata": {},
   "outputs": [],
   "source": [
    "df_trans= df_trans.fillna(df_trans.mean())"
   ]
  },
  {
   "cell_type": "code",
   "execution_count": 96,
   "id": "8d98fac8",
   "metadata": {},
   "outputs": [
    {
     "name": "stderr",
     "output_type": "stream",
     "text": [
      "C:\\Users\\acanino\\Anaconda3\\lib\\site-packages\\scipy\\stats\\stats.py:4023: PearsonRConstantInputWarning: An input array is constant; the correlation coefficient is not defined.\n",
      "  warnings.warn(PearsonRConstantInputWarning())\n"
     ]
    }
   ],
   "source": [
    "# Calculate point-biserial correlation for each column, ph_log has been excluded for computational problems\n",
    "dict_trans = {}\n",
    "for column in df_trans.columns:\n",
    "    if column not in data.columns:\n",
    "        # calculating the correlation with the y:\n",
    "        correlation, p_value = stats.pointbiserialr(x=df_trans[column], y=data['Potability'] )\n",
    "        dict_trans[column] = correlation\n",
    "df_compare = pd.DataFrame.from_dict(dict_trans, orient='index', columns=['Correlation_transformed'])\n",
    "\n",
    "\n"
   ]
  },
  {
   "cell_type": "code",
   "execution_count": 97,
   "id": "5518ddc2",
   "metadata": {},
   "outputs": [],
   "source": [
    "# recreating the original column in the transofmed table.\n",
    "df_compare['original_column'] = df_compare.apply(lambda row: [x for x in data.columns if row.name.startswith(x)], axis=1)\n",
    "df_compare['original_column'] = df_compare.apply(lambda row: row['original_column'][0], axis=1)\n",
    "df_compare = df_compare.fillna(0)\n"
   ]
  },
  {
   "cell_type": "code",
   "execution_count": 98,
   "id": "6eb57759",
   "metadata": {},
   "outputs": [
    {
     "data": {
      "text/html": [
       "<div>\n",
       "<style scoped>\n",
       "    .dataframe tbody tr th:only-of-type {\n",
       "        vertical-align: middle;\n",
       "    }\n",
       "\n",
       "    .dataframe tbody tr th {\n",
       "        vertical-align: top;\n",
       "    }\n",
       "\n",
       "    .dataframe thead th {\n",
       "        text-align: right;\n",
       "    }\n",
       "</style>\n",
       "<table border=\"1\" class=\"dataframe\">\n",
       "  <thead>\n",
       "    <tr style=\"text-align: right;\">\n",
       "      <th></th>\n",
       "      <th>Correlation_original</th>\n",
       "      <th>Correlation_transformed</th>\n",
       "      <th>Performance_abs</th>\n",
       "      <th>Performance_odd</th>\n",
       "    </tr>\n",
       "  </thead>\n",
       "  <tbody>\n",
       "    <tr>\n",
       "      <th>Organic_carbon_power_2</th>\n",
       "      <td>-0.030001</td>\n",
       "      <td>-0.031849</td>\n",
       "      <td>0.001848</td>\n",
       "      <td>1.061590</td>\n",
       "    </tr>\n",
       "    <tr>\n",
       "      <th>Organic_carbon_power_3</th>\n",
       "      <td>-0.030001</td>\n",
       "      <td>-0.033594</td>\n",
       "      <td>0.003593</td>\n",
       "      <td>1.119762</td>\n",
       "    </tr>\n",
       "    <tr>\n",
       "      <th>Organic_carbon_power_4</th>\n",
       "      <td>-0.030001</td>\n",
       "      <td>-0.035132</td>\n",
       "      <td>0.005130</td>\n",
       "      <td>1.171008</td>\n",
       "    </tr>\n",
       "    <tr>\n",
       "      <th>Organic_carbon_power_5</th>\n",
       "      <td>-0.030001</td>\n",
       "      <td>-0.036382</td>\n",
       "      <td>0.006381</td>\n",
       "      <td>1.212694</td>\n",
       "    </tr>\n",
       "    <tr>\n",
       "      <th>Organic_carbon_power_6</th>\n",
       "      <td>-0.030001</td>\n",
       "      <td>-0.037246</td>\n",
       "      <td>0.007245</td>\n",
       "      <td>1.241488</td>\n",
       "    </tr>\n",
       "  </tbody>\n",
       "</table>\n",
       "</div>"
      ],
      "text/plain": [
       "                        Correlation_original  Correlation_transformed  \\\n",
       "Organic_carbon_power_2             -0.030001                -0.031849   \n",
       "Organic_carbon_power_3             -0.030001                -0.033594   \n",
       "Organic_carbon_power_4             -0.030001                -0.035132   \n",
       "Organic_carbon_power_5             -0.030001                -0.036382   \n",
       "Organic_carbon_power_6             -0.030001                -0.037246   \n",
       "\n",
       "                        Performance_abs  Performance_odd  \n",
       "Organic_carbon_power_2         0.001848         1.061590  \n",
       "Organic_carbon_power_3         0.003593         1.119762  \n",
       "Organic_carbon_power_4         0.005130         1.171008  \n",
       "Organic_carbon_power_5         0.006381         1.212694  \n",
       "Organic_carbon_power_6         0.007245         1.241488  "
      ]
     },
     "execution_count": 98,
     "metadata": {},
     "output_type": "execute_result"
    }
   ],
   "source": [
    "# creating a df to compare the correlations\n",
    "df_comparison = pd.merge(df_benchmark, df_compare, left_index = True, right_on ='original_column', how='left')\n",
    "df_comparison = df_comparison.drop(columns=['original_column'])\n",
    "# calculating differences in between the correlations\n",
    "df_comparison['Performance_abs'] = abs( abs(df_comparison['Correlation_transformed'] - df_comparison['Correlation_original']) )\n",
    "# calculating the odds against the correlation of the original variable\n",
    "df_comparison['Performance_odd'] = abs(df_comparison['Correlation_transformed'])/ abs(df_comparison['Correlation_original']) \n",
    "df_comparison.head()\n"
   ]
  },
  {
   "cell_type": "code",
   "execution_count": 99,
   "id": "3d9b1b88",
   "metadata": {},
   "outputs": [
    {
     "data": {
      "text/html": [
       "<div>\n",
       "<style scoped>\n",
       "    .dataframe tbody tr th:only-of-type {\n",
       "        vertical-align: middle;\n",
       "    }\n",
       "\n",
       "    .dataframe tbody tr th {\n",
       "        vertical-align: top;\n",
       "    }\n",
       "\n",
       "    .dataframe thead th {\n",
       "        text-align: right;\n",
       "    }\n",
       "</style>\n",
       "<table border=\"1\" class=\"dataframe\">\n",
       "  <thead>\n",
       "    <tr style=\"text-align: right;\">\n",
       "      <th></th>\n",
       "      <th>Correlation_original</th>\n",
       "      <th>Correlation_transformed</th>\n",
       "      <th>Performance_abs</th>\n",
       "      <th>Performance_odd</th>\n",
       "    </tr>\n",
       "  </thead>\n",
       "  <tbody>\n",
       "    <tr>\n",
       "      <th>ph_power_7</th>\n",
       "      <td>-0.003287</td>\n",
       "      <td>-0.043075</td>\n",
       "      <td>0.039788</td>\n",
       "      <td>13.105298</td>\n",
       "    </tr>\n",
       "    <tr>\n",
       "      <th>ph_power_6</th>\n",
       "      <td>-0.003287</td>\n",
       "      <td>-0.043011</td>\n",
       "      <td>0.039724</td>\n",
       "      <td>13.085734</td>\n",
       "    </tr>\n",
       "    <tr>\n",
       "      <th>ph_power_8</th>\n",
       "      <td>-0.003287</td>\n",
       "      <td>-0.041436</td>\n",
       "      <td>0.038149</td>\n",
       "      <td>12.606534</td>\n",
       "    </tr>\n",
       "    <tr>\n",
       "      <th>ph_power_5</th>\n",
       "      <td>-0.003287</td>\n",
       "      <td>-0.040632</td>\n",
       "      <td>0.037345</td>\n",
       "      <td>12.361981</td>\n",
       "    </tr>\n",
       "    <tr>\n",
       "      <th>ph_power_9</th>\n",
       "      <td>-0.003287</td>\n",
       "      <td>-0.038782</td>\n",
       "      <td>0.035495</td>\n",
       "      <td>11.799077</td>\n",
       "    </tr>\n",
       "    <tr>\n",
       "      <th>...</th>\n",
       "      <td>...</td>\n",
       "      <td>...</td>\n",
       "      <td>...</td>\n",
       "      <td>...</td>\n",
       "    </tr>\n",
       "    <tr>\n",
       "      <th>Organic_carbon_power_3</th>\n",
       "      <td>-0.030001</td>\n",
       "      <td>-0.033594</td>\n",
       "      <td>0.003593</td>\n",
       "      <td>1.119762</td>\n",
       "    </tr>\n",
       "    <tr>\n",
       "      <th>Solids_power_6</th>\n",
       "      <td>0.033743</td>\n",
       "      <td>0.037057</td>\n",
       "      <td>0.003314</td>\n",
       "      <td>1.098210</td>\n",
       "    </tr>\n",
       "    <tr>\n",
       "      <th>Organic_carbon_power_2</th>\n",
       "      <td>-0.030001</td>\n",
       "      <td>-0.031849</td>\n",
       "      <td>0.001848</td>\n",
       "      <td>1.061590</td>\n",
       "    </tr>\n",
       "    <tr>\n",
       "      <th>Turbidity_power_3</th>\n",
       "      <td>0.001581</td>\n",
       "      <td>0.001655</td>\n",
       "      <td>0.000074</td>\n",
       "      <td>1.046989</td>\n",
       "    </tr>\n",
       "    <tr>\n",
       "      <th>Turbidity_power_2</th>\n",
       "      <td>0.001581</td>\n",
       "      <td>0.001622</td>\n",
       "      <td>0.000041</td>\n",
       "      <td>1.026232</td>\n",
       "    </tr>\n",
       "  </tbody>\n",
       "</table>\n",
       "<p>65 rows × 4 columns</p>\n",
       "</div>"
      ],
      "text/plain": [
       "                        Correlation_original  Correlation_transformed  \\\n",
       "ph_power_7                         -0.003287                -0.043075   \n",
       "ph_power_6                         -0.003287                -0.043011   \n",
       "ph_power_8                         -0.003287                -0.041436   \n",
       "ph_power_5                         -0.003287                -0.040632   \n",
       "ph_power_9                         -0.003287                -0.038782   \n",
       "...                                      ...                      ...   \n",
       "Organic_carbon_power_3             -0.030001                -0.033594   \n",
       "Solids_power_6                      0.033743                 0.037057   \n",
       "Organic_carbon_power_2             -0.030001                -0.031849   \n",
       "Turbidity_power_3                   0.001581                 0.001655   \n",
       "Turbidity_power_2                   0.001581                 0.001622   \n",
       "\n",
       "                        Performance_abs  Performance_odd  \n",
       "ph_power_7                     0.039788        13.105298  \n",
       "ph_power_6                     0.039724        13.085734  \n",
       "ph_power_8                     0.038149        12.606534  \n",
       "ph_power_5                     0.037345        12.361981  \n",
       "ph_power_9                     0.035495        11.799077  \n",
       "...                                 ...              ...  \n",
       "Organic_carbon_power_3         0.003593         1.119762  \n",
       "Solids_power_6                 0.003314         1.098210  \n",
       "Organic_carbon_power_2         0.001848         1.061590  \n",
       "Turbidity_power_3              0.000074         1.046989  \n",
       "Turbidity_power_2              0.000041         1.026232  \n",
       "\n",
       "[65 rows x 4 columns]"
      ]
     },
     "execution_count": 99,
     "metadata": {},
     "output_type": "execute_result"
    }
   ],
   "source": [
    "df_comparison_sel = df_comparison[df_comparison['Performance_odd']>1.00001]\n",
    "df_comparison_sel = df_comparison_sel.sort_values(by='Performance_odd', ascending=False)\n",
    "df_comparison_sel"
   ]
  },
  {
   "cell_type": "code",
   "execution_count": 100,
   "id": "b07bd8c2",
   "metadata": {},
   "outputs": [
    {
     "data": {
      "text/plain": [
       "Index(['Chloramines_exp', 'Chloramines_power_2', 'Chloramines_power_3',\n",
       "       'Chloramines_power_4', 'Chloramines_power_5', 'Chloramines_power_6',\n",
       "       'Chloramines_power_7', 'Chloramines_power_8', 'Chloramines_power_9',\n",
       "       'Conductivity_log', 'Hardness_log', 'Hardness_power_4',\n",
       "       'Hardness_power_5', 'Hardness_power_6', 'Hardness_power_7',\n",
       "       'Hardness_power_8', 'Hardness_power_9', 'Organic_carbon_power_2',\n",
       "       'Organic_carbon_power_3', 'Organic_carbon_power_4',\n",
       "       'Organic_carbon_power_5', 'Organic_carbon_power_6',\n",
       "       'Organic_carbon_power_7', 'Organic_carbon_power_8',\n",
       "       'Organic_carbon_power_9', 'Solids_power_2', 'Solids_power_3',\n",
       "       'Solids_power_4', 'Solids_power_5', 'Solids_power_6', 'Sulfate_exp',\n",
       "       'Sulfate_log', 'Sulfate_power_5', 'Sulfate_power_6', 'Sulfate_power_7',\n",
       "       'Sulfate_power_8', 'Sulfate_power_9', 'Trihalomethanes_exp',\n",
       "       'Trihalomethanes_power_2', 'Trihalomethanes_power_3',\n",
       "       'Trihalomethanes_power_4', 'Trihalomethanes_power_5',\n",
       "       'Trihalomethanes_power_6', 'Trihalomethanes_power_7',\n",
       "       'Trihalomethanes_power_8', 'Trihalomethanes_power_9', 'Turbidity_exp',\n",
       "       'Turbidity_power_2', 'Turbidity_power_3', 'Turbidity_power_4',\n",
       "       'Turbidity_power_5', 'Turbidity_power_6', 'Turbidity_power_7',\n",
       "       'Turbidity_power_8', 'Turbidity_power_9', 'ph_exp', 'ph_log',\n",
       "       'ph_power_2', 'ph_power_3', 'ph_power_4', 'ph_power_5', 'ph_power_6',\n",
       "       'ph_power_7', 'ph_power_8', 'ph_power_9'],\n",
       "      dtype='object')"
      ]
     },
     "execution_count": 100,
     "metadata": {},
     "output_type": "execute_result"
    }
   ],
   "source": [
    "# checking if we miss some degrees of polynomial variables\n",
    "df_comparison_sel_sorted= df_comparison_sel.sort_index(axis=0)\n",
    "df_comparison_sel_sorted.index"
   ]
  },
  {
   "cell_type": "markdown",
   "id": "228947ea",
   "metadata": {},
   "source": [
    "checking that every variable with power transformation has all the degree until the top one.\n"
   ]
  },
  {
   "cell_type": "code",
   "execution_count": 101,
   "id": "2a5f5efc",
   "metadata": {},
   "outputs": [
    {
     "data": {
      "text/html": [
       "<div>\n",
       "<style scoped>\n",
       "    .dataframe tbody tr th:only-of-type {\n",
       "        vertical-align: middle;\n",
       "    }\n",
       "\n",
       "    .dataframe tbody tr th {\n",
       "        vertical-align: top;\n",
       "    }\n",
       "\n",
       "    .dataframe thead th {\n",
       "        text-align: right;\n",
       "    }\n",
       "</style>\n",
       "<table border=\"1\" class=\"dataframe\">\n",
       "  <thead>\n",
       "    <tr style=\"text-align: right;\">\n",
       "      <th></th>\n",
       "      <th>Correlation_original</th>\n",
       "      <th>Correlation_transformed</th>\n",
       "      <th>Performance_abs</th>\n",
       "      <th>Performance_odd</th>\n",
       "    </tr>\n",
       "  </thead>\n",
       "  <tbody>\n",
       "    <tr>\n",
       "      <th>Hardness_power_9</th>\n",
       "      <td>-0.013837</td>\n",
       "      <td>0.045369</td>\n",
       "      <td>0.059206</td>\n",
       "      <td>3.278954</td>\n",
       "    </tr>\n",
       "    <tr>\n",
       "      <th>Hardness_power_8</th>\n",
       "      <td>-0.013837</td>\n",
       "      <td>0.041753</td>\n",
       "      <td>0.055590</td>\n",
       "      <td>3.017595</td>\n",
       "    </tr>\n",
       "    <tr>\n",
       "      <th>Hardness_power_7</th>\n",
       "      <td>-0.013837</td>\n",
       "      <td>0.037157</td>\n",
       "      <td>0.050993</td>\n",
       "      <td>2.685417</td>\n",
       "    </tr>\n",
       "    <tr>\n",
       "      <th>Hardness_power_6</th>\n",
       "      <td>-0.013837</td>\n",
       "      <td>0.031490</td>\n",
       "      <td>0.045327</td>\n",
       "      <td>2.275865</td>\n",
       "    </tr>\n",
       "    <tr>\n",
       "      <th>Hardness_log</th>\n",
       "      <td>-0.013837</td>\n",
       "      <td>-0.026246</td>\n",
       "      <td>0.012409</td>\n",
       "      <td>1.896844</td>\n",
       "    </tr>\n",
       "    <tr>\n",
       "      <th>Hardness_power_5</th>\n",
       "      <td>-0.013837</td>\n",
       "      <td>0.024694</td>\n",
       "      <td>0.038531</td>\n",
       "      <td>1.784716</td>\n",
       "    </tr>\n",
       "    <tr>\n",
       "      <th>Hardness_power_4</th>\n",
       "      <td>-0.013837</td>\n",
       "      <td>0.016748</td>\n",
       "      <td>0.030585</td>\n",
       "      <td>1.210413</td>\n",
       "    </tr>\n",
       "  </tbody>\n",
       "</table>\n",
       "</div>"
      ],
      "text/plain": [
       "                  Correlation_original  Correlation_transformed  \\\n",
       "Hardness_power_9             -0.013837                 0.045369   \n",
       "Hardness_power_8             -0.013837                 0.041753   \n",
       "Hardness_power_7             -0.013837                 0.037157   \n",
       "Hardness_power_6             -0.013837                 0.031490   \n",
       "Hardness_log                 -0.013837                -0.026246   \n",
       "Hardness_power_5             -0.013837                 0.024694   \n",
       "Hardness_power_4             -0.013837                 0.016748   \n",
       "\n",
       "                  Performance_abs  Performance_odd  \n",
       "Hardness_power_9         0.059206         3.278954  \n",
       "Hardness_power_8         0.055590         3.017595  \n",
       "Hardness_power_7         0.050993         2.685417  \n",
       "Hardness_power_6         0.045327         2.275865  \n",
       "Hardness_log             0.012409         1.896844  \n",
       "Hardness_power_5         0.038531         1.784716  \n",
       "Hardness_power_4         0.030585         1.210413  "
      ]
     },
     "execution_count": 101,
     "metadata": {},
     "output_type": "execute_result"
    }
   ],
   "source": [
    "#the var 'Hardness'has a prro performance on the 1st degrees of polinomials, let us evaluate if to put that variable in the model\n",
    "col_to_add_= df_comparison_sel_sorted.index\n",
    "df_comparison_sel[df_comparison_sel.index.str.contains('Hardness')]"
   ]
  },
  {
   "cell_type": "markdown",
   "id": "4f2b0a47",
   "metadata": {},
   "source": [
    "it looks like a relativley good performance improvement, so we should include as well the missing degrees of power"
   ]
  },
  {
   "cell_type": "code",
   "execution_count": 102,
   "id": "abef8c9d",
   "metadata": {},
   "outputs": [],
   "source": [
    "col_to_add = list(col_to_add_) +['Hardness_power_2','Hardness_power_3']\n",
    "col_to_add = df_comparison_sel.index\n"
   ]
  },
  {
   "cell_type": "code",
   "execution_count": 103,
   "id": "3618f9aa",
   "metadata": {},
   "outputs": [],
   "source": [
    "# merging the df with the original one to get the one we will use for modelling.\n",
    "df_trans = df_trans[col_to_add].copy()\n",
    "df_model = pd.merge(data, df_trans, left_index = True, right_index =True, how='left')"
   ]
  },
  {
   "cell_type": "code",
   "execution_count": 104,
   "id": "9f84d039",
   "metadata": {},
   "outputs": [
    {
     "data": {
      "text/html": [
       "<div>\n",
       "<style scoped>\n",
       "    .dataframe tbody tr th:only-of-type {\n",
       "        vertical-align: middle;\n",
       "    }\n",
       "\n",
       "    .dataframe tbody tr th {\n",
       "        vertical-align: top;\n",
       "    }\n",
       "\n",
       "    .dataframe thead th {\n",
       "        text-align: right;\n",
       "    }\n",
       "</style>\n",
       "<table border=\"1\" class=\"dataframe\">\n",
       "  <thead>\n",
       "    <tr style=\"text-align: right;\">\n",
       "      <th></th>\n",
       "      <th>Potability</th>\n",
       "      <th>Organic_carbon</th>\n",
       "      <th>Solids</th>\n",
       "      <th>Chloramines</th>\n",
       "      <th>Sulfate</th>\n",
       "      <th>Hardness</th>\n",
       "      <th>Conductivity</th>\n",
       "      <th>Trihalomethanes</th>\n",
       "      <th>ph</th>\n",
       "      <th>Turbidity</th>\n",
       "      <th>...</th>\n",
       "      <th>Solids_power_5</th>\n",
       "      <th>Solids_power_2</th>\n",
       "      <th>Sulfate_exp</th>\n",
       "      <th>Organic_carbon_power_4</th>\n",
       "      <th>Turbidity_power_4</th>\n",
       "      <th>Organic_carbon_power_3</th>\n",
       "      <th>Solids_power_6</th>\n",
       "      <th>Organic_carbon_power_2</th>\n",
       "      <th>Turbidity_power_3</th>\n",
       "      <th>Turbidity_power_2</th>\n",
       "    </tr>\n",
       "  </thead>\n",
       "  <tbody>\n",
       "    <tr>\n",
       "      <th>Chloramines</th>\n",
       "      <td>0.023779</td>\n",
       "      <td>-0.012653</td>\n",
       "      <td>-0.070148</td>\n",
       "      <td>1.000000</td>\n",
       "      <td>0.023791</td>\n",
       "      <td>-0.030054</td>\n",
       "      <td>-0.020486</td>\n",
       "      <td>0.016627</td>\n",
       "      <td>-0.031811</td>\n",
       "      <td>0.002363</td>\n",
       "      <td>...</td>\n",
       "      <td>-0.063044</td>\n",
       "      <td>-0.066793</td>\n",
       "      <td>0.031566</td>\n",
       "      <td>-0.006542</td>\n",
       "      <td>-0.002930</td>\n",
       "      <td>-0.009268</td>\n",
       "      <td>-0.062815</td>\n",
       "      <td>-0.011471</td>\n",
       "      <td>-0.001020</td>\n",
       "      <td>0.000732</td>\n",
       "    </tr>\n",
       "    <tr>\n",
       "      <th>Chloramines_exp</th>\n",
       "      <td>0.062739</td>\n",
       "      <td>-0.041776</td>\n",
       "      <td>0.004631</td>\n",
       "      <td>0.441569</td>\n",
       "      <td>-0.085989</td>\n",
       "      <td>-0.010964</td>\n",
       "      <td>0.008640</td>\n",
       "      <td>-0.007280</td>\n",
       "      <td>0.008463</td>\n",
       "      <td>0.019661</td>\n",
       "      <td>...</td>\n",
       "      <td>0.011103</td>\n",
       "      <td>0.011873</td>\n",
       "      <td>-0.036177</td>\n",
       "      <td>-0.031824</td>\n",
       "      <td>0.014890</td>\n",
       "      <td>-0.036028</td>\n",
       "      <td>0.008040</td>\n",
       "      <td>-0.039541</td>\n",
       "      <td>0.016785</td>\n",
       "      <td>0.018401</td>\n",
       "    </tr>\n",
       "    <tr>\n",
       "      <th>Chloramines_power_2</th>\n",
       "      <td>0.037239</td>\n",
       "      <td>-0.020936</td>\n",
       "      <td>-0.066852</td>\n",
       "      <td>0.984360</td>\n",
       "      <td>0.011015</td>\n",
       "      <td>-0.027135</td>\n",
       "      <td>-0.017649</td>\n",
       "      <td>0.013879</td>\n",
       "      <td>-0.030811</td>\n",
       "      <td>0.001053</td>\n",
       "      <td>...</td>\n",
       "      <td>-0.052981</td>\n",
       "      <td>-0.060358</td>\n",
       "      <td>0.028907</td>\n",
       "      <td>-0.012975</td>\n",
       "      <td>-0.003365</td>\n",
       "      <td>-0.016429</td>\n",
       "      <td>-0.052407</td>\n",
       "      <td>-0.019242</td>\n",
       "      <td>-0.001723</td>\n",
       "      <td>-0.000267</td>\n",
       "    </tr>\n",
       "    <tr>\n",
       "      <th>Chloramines_power_3</th>\n",
       "      <td>0.047472</td>\n",
       "      <td>-0.027618</td>\n",
       "      <td>-0.062323</td>\n",
       "      <td>0.946550</td>\n",
       "      <td>-0.002663</td>\n",
       "      <td>-0.025028</td>\n",
       "      <td>-0.014353</td>\n",
       "      <td>0.011179</td>\n",
       "      <td>-0.027542</td>\n",
       "      <td>0.001676</td>\n",
       "      <td>...</td>\n",
       "      <td>-0.043623</td>\n",
       "      <td>-0.053390</td>\n",
       "      <td>0.024081</td>\n",
       "      <td>-0.018144</td>\n",
       "      <td>-0.002262</td>\n",
       "      <td>-0.022196</td>\n",
       "      <td>-0.042927</td>\n",
       "      <td>-0.025510</td>\n",
       "      <td>-0.000763</td>\n",
       "      <td>0.000533</td>\n",
       "    </tr>\n",
       "    <tr>\n",
       "      <th>Chloramines_power_4</th>\n",
       "      <td>0.055133</td>\n",
       "      <td>-0.033123</td>\n",
       "      <td>-0.056902</td>\n",
       "      <td>0.893513</td>\n",
       "      <td>-0.016824</td>\n",
       "      <td>-0.023114</td>\n",
       "      <td>-0.010986</td>\n",
       "      <td>0.008247</td>\n",
       "      <td>-0.023147</td>\n",
       "      <td>0.003711</td>\n",
       "      <td>...</td>\n",
       "      <td>-0.035282</td>\n",
       "      <td>-0.046293</td>\n",
       "      <td>0.017352</td>\n",
       "      <td>-0.022456</td>\n",
       "      <td>-0.000143</td>\n",
       "      <td>-0.026979</td>\n",
       "      <td>-0.034645</td>\n",
       "      <td>-0.030689</td>\n",
       "      <td>0.001346</td>\n",
       "      <td>0.002615</td>\n",
       "    </tr>\n",
       "    <tr>\n",
       "      <th>...</th>\n",
       "      <td>...</td>\n",
       "      <td>...</td>\n",
       "      <td>...</td>\n",
       "      <td>...</td>\n",
       "      <td>...</td>\n",
       "      <td>...</td>\n",
       "      <td>...</td>\n",
       "      <td>...</td>\n",
       "      <td>...</td>\n",
       "      <td>...</td>\n",
       "      <td>...</td>\n",
       "      <td>...</td>\n",
       "      <td>...</td>\n",
       "      <td>...</td>\n",
       "      <td>...</td>\n",
       "      <td>...</td>\n",
       "      <td>...</td>\n",
       "      <td>...</td>\n",
       "      <td>...</td>\n",
       "      <td>...</td>\n",
       "      <td>...</td>\n",
       "    </tr>\n",
       "    <tr>\n",
       "      <th>ph_power_5</th>\n",
       "      <td>-0.040632</td>\n",
       "      <td>0.029867</td>\n",
       "      <td>-0.055434</td>\n",
       "      <td>-0.017576</td>\n",
       "      <td>0.022872</td>\n",
       "      <td>0.024073</td>\n",
       "      <td>0.023681</td>\n",
       "      <td>0.006471</td>\n",
       "      <td>0.812981</td>\n",
       "      <td>-0.030566</td>\n",
       "      <td>...</td>\n",
       "      <td>-0.008295</td>\n",
       "      <td>-0.039542</td>\n",
       "      <td>0.018296</td>\n",
       "      <td>0.014966</td>\n",
       "      <td>-0.025336</td>\n",
       "      <td>0.020500</td>\n",
       "      <td>-0.003480</td>\n",
       "      <td>0.025647</td>\n",
       "      <td>-0.027753</td>\n",
       "      <td>-0.029705</td>\n",
       "    </tr>\n",
       "    <tr>\n",
       "      <th>ph_power_6</th>\n",
       "      <td>-0.043011</td>\n",
       "      <td>0.027207</td>\n",
       "      <td>-0.049726</td>\n",
       "      <td>-0.013505</td>\n",
       "      <td>0.024130</td>\n",
       "      <td>0.011942</td>\n",
       "      <td>0.022820</td>\n",
       "      <td>0.007526</td>\n",
       "      <td>0.733598</td>\n",
       "      <td>-0.029173</td>\n",
       "      <td>...</td>\n",
       "      <td>-0.005479</td>\n",
       "      <td>-0.034608</td>\n",
       "      <td>0.019717</td>\n",
       "      <td>0.013281</td>\n",
       "      <td>-0.023871</td>\n",
       "      <td>0.018367</td>\n",
       "      <td>-0.001337</td>\n",
       "      <td>0.023173</td>\n",
       "      <td>-0.026262</td>\n",
       "      <td>-0.028228</td>\n",
       "    </tr>\n",
       "    <tr>\n",
       "      <th>ph_power_7</th>\n",
       "      <td>-0.043075</td>\n",
       "      <td>0.024218</td>\n",
       "      <td>-0.044118</td>\n",
       "      <td>-0.010049</td>\n",
       "      <td>0.025002</td>\n",
       "      <td>0.001728</td>\n",
       "      <td>0.021430</td>\n",
       "      <td>0.008705</td>\n",
       "      <td>0.649939</td>\n",
       "      <td>-0.028277</td>\n",
       "      <td>...</td>\n",
       "      <td>-0.004287</td>\n",
       "      <td>-0.030479</td>\n",
       "      <td>0.020711</td>\n",
       "      <td>0.011361</td>\n",
       "      <td>-0.022942</td>\n",
       "      <td>0.015963</td>\n",
       "      <td>-0.000746</td>\n",
       "      <td>0.020397</td>\n",
       "      <td>-0.025308</td>\n",
       "      <td>-0.027271</td>\n",
       "    </tr>\n",
       "    <tr>\n",
       "      <th>ph_power_8</th>\n",
       "      <td>-0.041436</td>\n",
       "      <td>0.021038</td>\n",
       "      <td>-0.038760</td>\n",
       "      <td>-0.007420</td>\n",
       "      <td>0.025497</td>\n",
       "      <td>-0.006192</td>\n",
       "      <td>0.019756</td>\n",
       "      <td>0.009938</td>\n",
       "      <td>0.567459</td>\n",
       "      <td>-0.027843</td>\n",
       "      <td>...</td>\n",
       "      <td>-0.004187</td>\n",
       "      <td>-0.027031</td>\n",
       "      <td>0.021308</td>\n",
       "      <td>0.009260</td>\n",
       "      <td>-0.022519</td>\n",
       "      <td>0.013375</td>\n",
       "      <td>-0.001150</td>\n",
       "      <td>0.017432</td>\n",
       "      <td>-0.024857</td>\n",
       "      <td>-0.026803</td>\n",
       "    </tr>\n",
       "    <tr>\n",
       "      <th>ph_power_9</th>\n",
       "      <td>-0.038782</td>\n",
       "      <td>0.017874</td>\n",
       "      <td>-0.033842</td>\n",
       "      <td>-0.005667</td>\n",
       "      <td>0.025682</td>\n",
       "      <td>-0.011802</td>\n",
       "      <td>0.018029</td>\n",
       "      <td>0.011132</td>\n",
       "      <td>0.491146</td>\n",
       "      <td>-0.027752</td>\n",
       "      <td>...</td>\n",
       "      <td>-0.004710</td>\n",
       "      <td>-0.024179</td>\n",
       "      <td>0.021590</td>\n",
       "      <td>0.007105</td>\n",
       "      <td>-0.022483</td>\n",
       "      <td>0.010764</td>\n",
       "      <td>-0.002072</td>\n",
       "      <td>0.014468</td>\n",
       "      <td>-0.024790</td>\n",
       "      <td>-0.026705</td>\n",
       "    </tr>\n",
       "  </tbody>\n",
       "</table>\n",
       "<p>75 rows × 75 columns</p>\n",
       "</div>"
      ],
      "text/plain": [
       "                     Potability  Organic_carbon    Solids  Chloramines  \\\n",
       "Chloramines            0.023779       -0.012653 -0.070148     1.000000   \n",
       "Chloramines_exp        0.062739       -0.041776  0.004631     0.441569   \n",
       "Chloramines_power_2    0.037239       -0.020936 -0.066852     0.984360   \n",
       "Chloramines_power_3    0.047472       -0.027618 -0.062323     0.946550   \n",
       "Chloramines_power_4    0.055133       -0.033123 -0.056902     0.893513   \n",
       "...                         ...             ...       ...          ...   \n",
       "ph_power_5            -0.040632        0.029867 -0.055434    -0.017576   \n",
       "ph_power_6            -0.043011        0.027207 -0.049726    -0.013505   \n",
       "ph_power_7            -0.043075        0.024218 -0.044118    -0.010049   \n",
       "ph_power_8            -0.041436        0.021038 -0.038760    -0.007420   \n",
       "ph_power_9            -0.038782        0.017874 -0.033842    -0.005667   \n",
       "\n",
       "                      Sulfate  Hardness  Conductivity  Trihalomethanes  \\\n",
       "Chloramines          0.023791 -0.030054     -0.020486         0.016627   \n",
       "Chloramines_exp     -0.085989 -0.010964      0.008640        -0.007280   \n",
       "Chloramines_power_2  0.011015 -0.027135     -0.017649         0.013879   \n",
       "Chloramines_power_3 -0.002663 -0.025028     -0.014353         0.011179   \n",
       "Chloramines_power_4 -0.016824 -0.023114     -0.010986         0.008247   \n",
       "...                       ...       ...           ...              ...   \n",
       "ph_power_5           0.022872  0.024073      0.023681         0.006471   \n",
       "ph_power_6           0.024130  0.011942      0.022820         0.007526   \n",
       "ph_power_7           0.025002  0.001728      0.021430         0.008705   \n",
       "ph_power_8           0.025497 -0.006192      0.019756         0.009938   \n",
       "ph_power_9           0.025682 -0.011802      0.018029         0.011132   \n",
       "\n",
       "                           ph  Turbidity  ...  Solids_power_5  Solids_power_2  \\\n",
       "Chloramines         -0.031811   0.002363  ...       -0.063044       -0.066793   \n",
       "Chloramines_exp      0.008463   0.019661  ...        0.011103        0.011873   \n",
       "Chloramines_power_2 -0.030811   0.001053  ...       -0.052981       -0.060358   \n",
       "Chloramines_power_3 -0.027542   0.001676  ...       -0.043623       -0.053390   \n",
       "Chloramines_power_4 -0.023147   0.003711  ...       -0.035282       -0.046293   \n",
       "...                       ...        ...  ...             ...             ...   \n",
       "ph_power_5           0.812981  -0.030566  ...       -0.008295       -0.039542   \n",
       "ph_power_6           0.733598  -0.029173  ...       -0.005479       -0.034608   \n",
       "ph_power_7           0.649939  -0.028277  ...       -0.004287       -0.030479   \n",
       "ph_power_8           0.567459  -0.027843  ...       -0.004187       -0.027031   \n",
       "ph_power_9           0.491146  -0.027752  ...       -0.004710       -0.024179   \n",
       "\n",
       "                     Sulfate_exp  Organic_carbon_power_4  Turbidity_power_4  \\\n",
       "Chloramines             0.031566               -0.006542          -0.002930   \n",
       "Chloramines_exp        -0.036177               -0.031824           0.014890   \n",
       "Chloramines_power_2     0.028907               -0.012975          -0.003365   \n",
       "Chloramines_power_3     0.024081               -0.018144          -0.002262   \n",
       "Chloramines_power_4     0.017352               -0.022456          -0.000143   \n",
       "...                          ...                     ...                ...   \n",
       "ph_power_5              0.018296                0.014966          -0.025336   \n",
       "ph_power_6              0.019717                0.013281          -0.023871   \n",
       "ph_power_7              0.020711                0.011361          -0.022942   \n",
       "ph_power_8              0.021308                0.009260          -0.022519   \n",
       "ph_power_9              0.021590                0.007105          -0.022483   \n",
       "\n",
       "                     Organic_carbon_power_3  Solids_power_6  \\\n",
       "Chloramines                       -0.009268       -0.062815   \n",
       "Chloramines_exp                   -0.036028        0.008040   \n",
       "Chloramines_power_2               -0.016429       -0.052407   \n",
       "Chloramines_power_3               -0.022196       -0.042927   \n",
       "Chloramines_power_4               -0.026979       -0.034645   \n",
       "...                                     ...             ...   \n",
       "ph_power_5                         0.020500       -0.003480   \n",
       "ph_power_6                         0.018367       -0.001337   \n",
       "ph_power_7                         0.015963       -0.000746   \n",
       "ph_power_8                         0.013375       -0.001150   \n",
       "ph_power_9                         0.010764       -0.002072   \n",
       "\n",
       "                     Organic_carbon_power_2  Turbidity_power_3  \\\n",
       "Chloramines                       -0.011471          -0.001020   \n",
       "Chloramines_exp                   -0.039541           0.016785   \n",
       "Chloramines_power_2               -0.019242          -0.001723   \n",
       "Chloramines_power_3               -0.025510          -0.000763   \n",
       "Chloramines_power_4               -0.030689           0.001346   \n",
       "...                                     ...                ...   \n",
       "ph_power_5                         0.025647          -0.027753   \n",
       "ph_power_6                         0.023173          -0.026262   \n",
       "ph_power_7                         0.020397          -0.025308   \n",
       "ph_power_8                         0.017432          -0.024857   \n",
       "ph_power_9                         0.014468          -0.024790   \n",
       "\n",
       "                     Turbidity_power_2  \n",
       "Chloramines                   0.000732  \n",
       "Chloramines_exp               0.018401  \n",
       "Chloramines_power_2          -0.000267  \n",
       "Chloramines_power_3           0.000533  \n",
       "Chloramines_power_4           0.002615  \n",
       "...                                ...  \n",
       "ph_power_5                   -0.029705  \n",
       "ph_power_6                   -0.028228  \n",
       "ph_power_7                   -0.027271  \n",
       "ph_power_8                   -0.026803  \n",
       "ph_power_9                   -0.026705  \n",
       "\n",
       "[75 rows x 75 columns]"
      ]
     },
     "execution_count": 104,
     "metadata": {},
     "output_type": "execute_result"
    }
   ],
   "source": [
    "corr= df_model.corr()\n",
    "corr.sort_index(axis=0)"
   ]
  },
  {
   "cell_type": "code",
   "execution_count": 105,
   "id": "11febbef",
   "metadata": {},
   "outputs": [
    {
     "data": {
      "text/plain": [
       "(3276, 75)"
      ]
     },
     "execution_count": 105,
     "metadata": {},
     "output_type": "execute_result"
    }
   ],
   "source": [
    "df_model.shape"
   ]
  },
  {
   "cell_type": "code",
   "execution_count": 106,
   "id": "cd483e34",
   "metadata": {},
   "outputs": [
    {
     "data": {
      "text/plain": [
       "0"
      ]
     },
     "execution_count": 106,
     "metadata": {},
     "output_type": "execute_result"
    }
   ],
   "source": [
    "df_model.isnull().any().sum()"
   ]
  },
  {
   "cell_type": "code",
   "execution_count": 107,
   "id": "8f62cb00",
   "metadata": {},
   "outputs": [],
   "source": [
    "for column in df_model.columns:\n",
    "    has_infinite = np.isinf(df_model[column]).any()\n",
    "    if has_infinite > 0:\n",
    "        print(f\"Column '{column}' has infinite values: {has_infinite}\")"
   ]
  },
  {
   "cell_type": "code",
   "execution_count": 108,
   "id": "289bd636",
   "metadata": {},
   "outputs": [],
   "source": [
    "df_model.to_excel(\"extraction.xlsx\")"
   ]
  },
  {
   "cell_type": "code",
   "execution_count": 109,
   "id": "ab88f86c",
   "metadata": {},
   "outputs": [],
   "source": [
    "df_try = data.copy()\n",
    "for column in df_model.columns:\n",
    "    df_try[column] = df_model[column].astype('float32')\n",
    "    #print(\"Column Name:\", column)"
   ]
  },
  {
   "cell_type": "markdown",
   "id": "0c177a8f",
   "metadata": {},
   "source": [
    "#### 78 features might be a a big number for a dataset with 3276, this can cause overfitting and heteroskedsticity problems. \n",
    "#### We can decide to delete several of those features once observed the out of sample predictions of the model."
   ]
  },
  {
   "cell_type": "markdown",
   "id": "e381491b",
   "metadata": {},
   "source": [
    "## Data modeling "
   ]
  },
  {
   "cell_type": "code",
   "execution_count": 110,
   "id": "88c7547e",
   "metadata": {},
   "outputs": [],
   "source": [
    "from sklearn.model_selection import train_test_split\n",
    "from sklearn.linear_model import LogisticRegression\n",
    "from sklearn.metrics import accuracy_score, roc_auc_score\n",
    "from sklearn.metrics import confusion_matrix\n",
    "from scipy.stats import gmean\n",
    "from sklearn.metrics import precision_score, recall_score\n",
    "from sklearn.metrics import confusion_matrix\n",
    "from math import sqrt\n",
    "\n",
    "from sklearn import svm\n",
    "from sklearn.tree import DecisionTreeClassifier\n",
    "from sklearn.ensemble import RandomForestClassifier\n",
    "from sklearn.ensemble import AdaBoostClassifier\n",
    "from sklearn.neighbors import KNeighborsClassifier\n",
    "from sklearn.ensemble import ExtraTreesClassifier\n"
   ]
  },
  {
   "cell_type": "code",
   "execution_count": 111,
   "id": "137763c9",
   "metadata": {},
   "outputs": [],
   "source": [
    "# splitting the data\n",
    "# an alternative approach can be the cross validation one\n",
    "def splitting_df(df):\n",
    "\n",
    "    X = df.drop(columns=['Potability'])  # Features\n",
    "    y = df['Potability']  # Target variable\n",
    "\n",
    "    # Split the data into training and testing sets (80% train, 20% test)\n",
    "    X_train, X_test, y_train, y_test = train_test_split(X, y, test_size=0.25, random_state=42)\n",
    "    return X_train, X_test, y_train, y_test"
   ]
  },
  {
   "cell_type": "code",
   "execution_count": 112,
   "id": "d9fd1d56",
   "metadata": {},
   "outputs": [],
   "source": [
    "def get_model_name (model):\n",
    "    model_attribute = getattr(model, '__class__', None)\n",
    "    model_name = model_attribute.__name__ if model_attribute else None\n",
    "\n",
    "    return model_name"
   ]
  },
  {
   "cell_type": "markdown",
   "id": "4ce285db",
   "metadata": {},
   "source": [
    "### For this Problem wi will use several treshold metrics for evaluating the performances.\n",
    "### Since we have a mild imbalance of the data (39% of true positive) including a metrics like the g mean : (geometric mean  of Sensitivity and Specificity) or the F measure can be useful"
   ]
  },
  {
   "cell_type": "code",
   "execution_count": 113,
   "id": "b89bc1d4",
   "metadata": {},
   "outputs": [],
   "source": [
    "\n",
    "def evaluate_model(y_train_pred, y_test_pred, df, model ):\n",
    "\n",
    "\n",
    "    X_train, X_test, y_train, y_test = splitting_df(df)\n",
    "\n",
    "    conf_matrix = confusion_matrix(y_test, y_test_pred)\n",
    "\n",
    "    # Extract TP, FP, TN, FN from the confusion matrix\n",
    "    TN, FP, FN, TP = conf_matrix.ravel()\n",
    "\n",
    "    # Calculate sensitivity (true positive rate)\n",
    "    sensitivity = TP / (TP + FN)\n",
    "\n",
    "    # Calculate specificity (true negative rate)\n",
    "    specificity = TN / (TN + FP)\n",
    "    g_mean = sqrt(sensitivity * specificity)\n",
    "\n",
    "\n",
    "    print(\"Sensitivity (True Positive Rate):\", sensitivity)\n",
    "    print(\"Specificity (True Negative Rate):\", specificity)\n",
    "    # Compute the confusion matrix\n",
    "\n",
    "\n",
    "    train_accuracy = accuracy_score(y_train, y_train_pred)\n",
    "    test_accuracy = accuracy_score(y_test, y_test_pred)\n",
    "\n",
    "\n",
    "    # Calculate precision\n",
    "    precision = precision_score(y_test, y_test_pred)\n",
    "    # Calculate recall\n",
    "    recall = recall_score(y_test, y_test_pred)\n",
    "    \n",
    "    if (precision + recall ) >0:\n",
    "        f_measure = (2 * precision * recall) / (precision + recall)\n",
    "    else:\n",
    "        f_measure = 0\n",
    "        \n",
    "\n",
    "\n",
    "    train_roc_auc = roc_auc_score(y_train, model.predict_proba(X_train)[:, 1])\n",
    "    test_roc_auc = roc_auc_score(y_test, model.predict_proba(X_test)[:, 1])\n",
    "\n",
    "\n",
    "    # Baseline prediction (using the mean of y_train)\n",
    "    y_baseline_train = np.mean(y_train)\n",
    "    y_baseline_test = np.mean(y_test)\n",
    "\n",
    "\n",
    "    # Print metrics\n",
    "    print(\"Train Accuracy:\", train_accuracy)\n",
    "    print(\"Test Accuracy:\", test_accuracy)\n",
    "    print(\"Train ROC AUC:\", train_roc_auc)\n",
    "    print(\"Test ROC AUC:\", test_roc_auc)\n",
    "    print(\"Sensitivity (True Positive Rate):\", sensitivity)\n",
    "    print(\"Specificity (True Negative Rate):\", specificity)\n",
    "    print(\"Gmean :\",g_mean) # robusto to imbalanced classification\n",
    "    print(\"Precision:\",precision )\n",
    "    print(\"Recall:\",recall )\n",
    "    print(\"Specificity:\" ,precision )\n",
    "    print(\"F-Measure:\" ,f_measure ) # the most important metric robust to imbalanced classification\n",
    "    print(\"confusion_matrix test:\\n\" ,conf_matrix)\n"
   ]
  },
  {
   "cell_type": "markdown",
   "id": "9b72bac0",
   "metadata": {},
   "source": [
    "### Logistic model"
   ]
  },
  {
   "cell_type": "code",
   "execution_count": 114,
   "id": "d723df05",
   "metadata": {},
   "outputs": [],
   "source": [
    "X_train, X_test, y_train, y_test = splitting_df(df_model)\n",
    "# Train a logistic regression model\n",
    "model = LogisticRegression()\n",
    "model.fit(X_train, y_train)\n",
    "\n",
    "# Calculate predictions\n",
    "y_train_pred = model.predict(X_train)\n",
    "y_test_pred = model.predict(X_test)"
   ]
  },
  {
   "cell_type": "code",
   "execution_count": 115,
   "id": "d0843d0f",
   "metadata": {},
   "outputs": [
    {
     "name": "stdout",
     "output_type": "stream",
     "text": [
      "Sensitivity (True Positive Rate): 0.0\n",
      "Specificity (True Negative Rate): 0.9980392156862745\n",
      "Train Accuracy: 0.6064306064306064\n",
      "Test Accuracy: 0.6214896214896215\n",
      "Train ROC AUC: 0.4655524207419244\n",
      "Test ROC AUC: 0.43566216130465135\n",
      "Sensitivity (True Positive Rate): 0.0\n",
      "Specificity (True Negative Rate): 0.9980392156862745\n",
      "Gmean : 0.0\n",
      "Precision: 0.0\n",
      "Recall: 0.0\n",
      "Specificity: 0.0\n",
      "F-Measure: 0\n",
      "confusion_matrix test:\n",
      " [[509   1]\n",
      " [309   0]]\n"
     ]
    }
   ],
   "source": [
    "evaluate_model(y_train_pred, y_test_pred, df_model,model)"
   ]
  },
  {
   "cell_type": "markdown",
   "id": "6c89b8d6",
   "metadata": {},
   "source": [
    "This is a dummy model, always predicting the majority class.\n",
    "It is not useful for the analysis"
   ]
  },
  {
   "cell_type": "markdown",
   "id": "fd00c63c",
   "metadata": {},
   "source": [
    "### Support Vector machine"
   ]
  },
  {
   "cell_type": "code",
   "execution_count": 116,
   "id": "1c1ee145",
   "metadata": {},
   "outputs": [],
   "source": [
    "# svg\n",
    "svm_model = svm.SVC(kernel='rbf' ,probability=True)\n",
    "svm_model.fit(X_train, y_train) \n",
    "y_train_pred = svm_model.predict(X_train)\n",
    "y_test_pred = svm_model.predict(X_test)"
   ]
  },
  {
   "cell_type": "code",
   "execution_count": 117,
   "id": "4d737dd9",
   "metadata": {},
   "outputs": [
    {
     "name": "stdout",
     "output_type": "stream",
     "text": [
      "Sensitivity (True Positive Rate): 0.009708737864077669\n",
      "Specificity (True Negative Rate): 0.9980392156862745\n",
      "Train Accuracy: 0.6088726088726089\n",
      "Test Accuracy: 0.6251526251526252\n",
      "Train ROC AUC: 0.5276990606655791\n",
      "Test ROC AUC: 0.5062313598578589\n",
      "Sensitivity (True Positive Rate): 0.009708737864077669\n",
      "Specificity (True Negative Rate): 0.9980392156862745\n",
      "Gmean : 0.09843627950693642\n",
      "Precision: 0.75\n",
      "Recall: 0.009708737864077669\n",
      "Specificity: 0.75\n",
      "F-Measure: 0.019169329073482427\n",
      "confusion_matrix test:\n",
      " [[509   1]\n",
      " [306   3]]\n"
     ]
    }
   ],
   "source": [
    "evaluate_model(y_train_pred, y_test_pred, df_model,svm_model)"
   ]
  },
  {
   "cell_type": "markdown",
   "id": "e8c4f670",
   "metadata": {},
   "source": [
    "The performance are slightly better than the logistic regression one but metrics are still close to dummy predictor"
   ]
  },
  {
   "cell_type": "markdown",
   "id": "bcc78902",
   "metadata": {},
   "source": [
    "### Decision Tree"
   ]
  },
  {
   "cell_type": "code",
   "execution_count": 118,
   "id": "8e1ef74b",
   "metadata": {},
   "outputs": [],
   "source": [
    "\n",
    "dct = DecisionTreeClassifier()\n",
    "# Fit the decision tree model to the training data\n",
    "dct.fit(X_train, y_train)\n",
    "\n",
    "\n",
    "y_train_pred = dct.predict(X_train)\n",
    "y_test_pred = dct.predict(X_test)"
   ]
  },
  {
   "cell_type": "code",
   "execution_count": 119,
   "id": "e151eb04",
   "metadata": {},
   "outputs": [
    {
     "name": "stdout",
     "output_type": "stream",
     "text": [
      "Sensitivity (True Positive Rate): 0.5469255663430421\n",
      "Specificity (True Negative Rate): 0.6313725490196078\n",
      "Train Accuracy: 1.0\n",
      "Test Accuracy: 0.5995115995115995\n",
      "Train ROC AUC: 1.0\n",
      "Test ROC AUC: 0.589149057681325\n",
      "Sensitivity (True Positive Rate): 0.5469255663430421\n",
      "Specificity (True Negative Rate): 0.6313725490196078\n",
      "Gmean : 0.5876340604032404\n",
      "Precision: 0.4733893557422969\n",
      "Recall: 0.5469255663430421\n",
      "Specificity: 0.4733893557422969\n",
      "F-Measure: 0.5075075075075074\n",
      "confusion_matrix test:\n",
      " [[322 188]\n",
      " [140 169]]\n"
     ]
    }
   ],
   "source": [
    "evaluate_model(y_train_pred, y_test_pred, df= df_model , model = dct)"
   ]
  },
  {
   "cell_type": "markdown",
   "id": "bf1131da",
   "metadata": {},
   "source": [
    "The metrics are way better than the previous models with a Gmean = 0.5773 and a F mesure close to 0.5 "
   ]
  },
  {
   "cell_type": "markdown",
   "id": "2973c12e",
   "metadata": {},
   "source": [
    "### Random Forest"
   ]
  },
  {
   "cell_type": "code",
   "execution_count": 120,
   "id": "2a700ffb",
   "metadata": {},
   "outputs": [],
   "source": [
    "\n",
    "rf_classifier = RandomForestClassifier(n_estimators=100, random_state=42)\n",
    "\n",
    "rf_classifier.fit(X_train, y_train)\n",
    "\n",
    "\n",
    "y_train_pred = rf_classifier.predict(X_train)\n",
    "y_test_pred = rf_classifier.predict(X_test)\n"
   ]
  },
  {
   "cell_type": "code",
   "execution_count": 121,
   "id": "f5c0ac97",
   "metadata": {},
   "outputs": [
    {
     "name": "stdout",
     "output_type": "stream",
     "text": [
      "Sensitivity (True Positive Rate): 0.3818770226537217\n",
      "Specificity (True Negative Rate): 0.8627450980392157\n",
      "Train Accuracy: 1.0\n",
      "Test Accuracy: 0.6813186813186813\n",
      "Train ROC AUC: 1.0\n",
      "Test ROC AUC: 0.6896059394631638\n",
      "Sensitivity (True Positive Rate): 0.3818770226537217\n",
      "Specificity (True Negative Rate): 0.8627450980392157\n",
      "Gmean : 0.5739882658629085\n",
      "Precision: 0.6276595744680851\n",
      "Recall: 0.3818770226537217\n",
      "Specificity: 0.6276595744680851\n",
      "F-Measure: 0.4748490945674044\n",
      "confusion_matrix test:\n",
      " [[440  70]\n",
      " [191 118]]\n"
     ]
    }
   ],
   "source": [
    "evaluate_model(y_train_pred, y_test_pred, df= df_model , model = rf_classifier)"
   ]
  },
  {
   "cell_type": "markdown",
   "id": "0af1748e",
   "metadata": {},
   "source": [
    "This model has similar result compared to the decision tree, even though it has a lower performance in terms of sensitivy it has an higher one in the precision one.  <br>\n",
    "This model is more conservative in its predictions and tends to make fewer false positive errors while potentially missing some positive instances.\n",
    "If we assume that in the case of water potability it's important to minimize the false positives we would use with that model.\n",
    "this would be the best model so far.<br> In contrary we would choose Decision Tree because it's more balanced as we can see from the F-masure that take into account the mild unbalance of classes, and it has an higher precision True Positives+False Positives\n",
    "True Positives\n"
   ]
  },
  {
   "cell_type": "markdown",
   "id": "0d7d4d07",
   "metadata": {},
   "source": [
    "### AdaBoost"
   ]
  },
  {
   "cell_type": "code",
   "execution_count": 122,
   "id": "013d9824",
   "metadata": {},
   "outputs": [
    {
     "name": "stderr",
     "output_type": "stream",
     "text": [
      "C:\\Users\\acanino\\Anaconda3\\lib\\site-packages\\sklearn\\ensemble\\_weight_boosting.py:519: FutureWarning: The SAMME.R algorithm (the default) is deprecated and will be removed in 1.6. Use the SAMME algorithm to circumvent this warning.\n",
      "  warnings.warn(\n"
     ]
    }
   ],
   "source": [
    "\n",
    "ada_classifier = AdaBoostClassifier(n_estimators=100, random_state=42)\n",
    "\n",
    "# Fit the AdaBoost model to the training data\n",
    "ada_classifier.fit(X_train, y_train)\n",
    "\n",
    "# Predict the labels for the test set\n",
    "\n",
    "y_train_pred = ada_classifier.predict(X_train)\n",
    "y_test_pred = ada_classifier.predict(X_test)"
   ]
  },
  {
   "cell_type": "code",
   "execution_count": 123,
   "id": "a9fb6ddb",
   "metadata": {},
   "outputs": [
    {
     "name": "stdout",
     "output_type": "stream",
     "text": [
      "Sensitivity (True Positive Rate): 0.20711974110032363\n",
      "Specificity (True Negative Rate): 0.8529411764705882\n",
      "Train Accuracy: 0.6800976800976801\n",
      "Test Accuracy: 0.6092796092796092\n",
      "Train ROC AUC: 0.7185897916042477\n",
      "Test ROC AUC: 0.5637635636778984\n",
      "Sensitivity (True Positive Rate): 0.20711974110032363\n",
      "Specificity (True Negative Rate): 0.8529411764705882\n",
      "Gmean : 0.42031054667280676\n",
      "Precision: 0.460431654676259\n",
      "Recall: 0.20711974110032363\n",
      "Specificity: 0.460431654676259\n",
      "F-Measure: 0.28571428571428575\n",
      "confusion_matrix test:\n",
      " [[435  75]\n",
      " [245  64]]\n"
     ]
    }
   ],
   "source": [
    "evaluate_model(y_train_pred, y_test_pred, df= df_model , model = ada_classifier)"
   ]
  },
  {
   "cell_type": "markdown",
   "id": "90007042",
   "metadata": {},
   "source": [
    "This model has much worse metrics than the previous ones, still it has an high accuracy is not a key metrics in this kind of problem because of the mild class imbalance."
   ]
  },
  {
   "cell_type": "markdown",
   "id": "01915a82",
   "metadata": {},
   "source": [
    "### K-nearest neighbors"
   ]
  },
  {
   "cell_type": "code",
   "execution_count": 124,
   "id": "0b5bf5cf",
   "metadata": {},
   "outputs": [],
   "source": [
    "X_train, X_test, y_train, y_test = splitting_df(df_model)\n",
    "knn_classifier = KNeighborsClassifier(n_neighbors=3)\n",
    "\n",
    "# Fit the kNN model to the training data\n",
    "knn_classifier.fit(X_train, y_train)\n",
    "\n",
    "# Predict the labels for the test set\n",
    "y_train_pred = knn_classifier.predict(X_train)\n",
    "y_test_pred = knn_classifier.predict(X_test)"
   ]
  },
  {
   "cell_type": "code",
   "execution_count": 125,
   "id": "0a2bf017",
   "metadata": {},
   "outputs": [
    {
     "name": "stdout",
     "output_type": "stream",
     "text": [
      "Sensitivity (True Positive Rate): 0.3786407766990291\n",
      "Specificity (True Negative Rate): 0.6686274509803921\n",
      "Train Accuracy: 0.7623117623117623\n",
      "Test Accuracy: 0.5592185592185592\n",
      "Train ROC AUC: 0.8190886569681636\n",
      "Test ROC AUC: 0.5210070435941367\n",
      "Sensitivity (True Positive Rate): 0.3786407766990291\n",
      "Specificity (True Negative Rate): 0.6686274509803921\n",
      "Gmean : 0.503159634074026\n",
      "Precision: 0.4090909090909091\n",
      "Recall: 0.3786407766990291\n",
      "Specificity: 0.4090909090909091\n",
      "F-Measure: 0.3932773109243698\n",
      "confusion_matrix test:\n",
      " [[341 169]\n",
      " [192 117]]\n"
     ]
    }
   ],
   "source": [
    "evaluate_model(y_train_pred, y_test_pred, df= df_model , model = knn_classifier)"
   ]
  },
  {
   "cell_type": "markdown",
   "id": "9a4c5507",
   "metadata": {},
   "source": [
    "This model have the best accuracy so far (0,76) but accuracy can be misleading in this case that we don't have a perfectly balanced class problem, so considering the other mesure like gmean, precision and F-measure we can discard this model."
   ]
  },
  {
   "cell_type": "markdown",
   "id": "ff5b6967",
   "metadata": {},
   "source": [
    "### Extremely Randomized Trees"
   ]
  },
  {
   "cell_type": "markdown",
   "id": "22861851",
   "metadata": {},
   "source": [
    "This model is a specific type of decision tree more robust to noise and multicollinearity. <br>\n",
    "It was used considering that most of the feature could be correlated being generated from the same 9 initial variables."
   ]
  },
  {
   "cell_type": "code",
   "execution_count": 126,
   "id": "21c80fd0",
   "metadata": {},
   "outputs": [],
   "source": [
    "X_train, X_test, y_train, y_test = splitting_df(df_model)\n",
    "\n",
    "# Initialize the Extra Trees Classifier\n",
    "extra_trees_clf = ExtraTreesClassifier(n_estimators=100, random_state=42)\n",
    "\n",
    "# Fit the classifier to the training data\n",
    "extra_trees_clf.fit(X_train, y_train)\n",
    "\n",
    "y_train_pred = extra_trees_clf.predict(X_train)\n",
    "y_test_pred = extra_trees_clf.predict(X_test)"
   ]
  },
  {
   "cell_type": "code",
   "execution_count": 127,
   "id": "a5b4514b",
   "metadata": {},
   "outputs": [
    {
     "name": "stdout",
     "output_type": "stream",
     "text": [
      "Sensitivity (True Positive Rate): 0.3851132686084142\n",
      "Specificity (True Negative Rate): 0.8627450980392157\n",
      "Train Accuracy: 1.0\n",
      "Test Accuracy: 0.6825396825396826\n",
      "Train ROC AUC: 1.0\n",
      "Test ROC AUC: 0.7008312710197347\n",
      "Sensitivity (True Positive Rate): 0.3851132686084142\n",
      "Specificity (True Negative Rate): 0.8627450980392157\n",
      "Gmean : 0.5764152883830972\n",
      "Precision: 0.6296296296296297\n",
      "Recall: 0.3851132686084142\n",
      "Specificity: 0.6296296296296297\n",
      "F-Measure: 0.47791164658634533\n",
      "confusion_matrix test:\n",
      " [[440  70]\n",
      " [190 119]]\n"
     ]
    }
   ],
   "source": [
    "evaluate_model(y_train_pred, y_test_pred, df= df_model , model = extra_trees_clf)"
   ]
  },
  {
   "cell_type": "markdown",
   "id": "a48e0c07",
   "metadata": {},
   "source": [
    "This model has very similar metrics to the random forest one. The g mean it's sglithly better (0.576 vs 0,573) same thing for the F measure (0,4779 vs 0,474).\n",
    "Therefore is the best model so far"
   ]
  },
  {
   "cell_type": "markdown",
   "id": "46c80029",
   "metadata": {},
   "source": [
    "### Feature importance"
   ]
  },
  {
   "cell_type": "code",
   "execution_count": 128,
   "id": "c1058eb2",
   "metadata": {},
   "outputs": [
    {
     "data": {
      "text/plain": [
       "array([0.01303279, 0.01666689, 0.01561473, 0.01591462, 0.01532595,\n",
       "       0.01431755, 0.01195556, 0.01502837, 0.012658  , 0.01383815,\n",
       "       0.01402117, 0.01369657, 0.01409827, 0.01344092, 0.01452675,\n",
       "       0.01337692, 0.01460231, 0.01486356, 0.01440526, 0.01391333,\n",
       "       0.01103842, 0.01478903, 0.01289551, 0.01265636, 0.01256438,\n",
       "       0.01151994, 0.01437294, 0.01356336, 0.01296816, 0.01520274,\n",
       "       0.01077035, 0.01387916, 0.01112969, 0.01372888, 0.01616371,\n",
       "       0.01526934, 0.01100307, 0.01191636, 0.01420712, 0.0113896 ,\n",
       "       0.01514296, 0.01618032, 0.01169755, 0.01523882, 0.01508655,\n",
       "       0.01634694, 0.01103623, 0.01202704, 0.01520934, 0.01073696,\n",
       "       0.01635094, 0.01144822, 0.01193333, 0.01492937, 0.01152046,\n",
       "       0.01514695, 0.01481125, 0.01242777, 0.01115368, 0.01154884,\n",
       "       0.01199599, 0.0115903 , 0.01178292, 0.01534506, 0.01464813,\n",
       "       0.01659241, 0.01552317, 0.01222415, 0.01157703, 0.01215809,\n",
       "       0.01439318, 0.01245721, 0.01154742, 0.01186565])"
      ]
     },
     "execution_count": 128,
     "metadata": {},
     "output_type": "execute_result"
    }
   ],
   "source": [
    "extra_trees_clf.feature_importances_"
   ]
  },
  {
   "cell_type": "code",
   "execution_count": 129,
   "id": "53c7fdca",
   "metadata": {},
   "outputs": [
    {
     "data": {
      "text/plain": [
       "array([0.01140857, 0.01626111, 0.01330447, 0.01640531, 0.01585706,\n",
       "       0.01819107, 0.0099662 , 0.01353748, 0.01066617, 0.01288277,\n",
       "       0.01340375, 0.01331125, 0.01384819, 0.01335917, 0.01285899,\n",
       "       0.01445052, 0.01319351, 0.0123015 , 0.01705594, 0.01704133,\n",
       "       0.01057242, 0.01839306, 0.01299532, 0.01352989, 0.01366088,\n",
       "       0.00874179, 0.01663453, 0.01295809, 0.01226311, 0.01565862,\n",
       "       0.01077946, 0.01371116, 0.01095421, 0.01227786, 0.01623875,\n",
       "       0.01469215, 0.0109403 , 0.01185019, 0.01374376, 0.01135339,\n",
       "       0.01534113, 0.01529066, 0.01076238, 0.01379934, 0.01698602,\n",
       "       0.01725497, 0.01144929, 0.01065246, 0.01308299, 0.01072283,\n",
       "       0.01468092, 0.01041278, 0.01194167, 0.02074831, 0.01107053,\n",
       "       0.0169452 , 0.01667966, 0.01234627, 0.01196295, 0.01202064,\n",
       "       0.00919677, 0.01207015, 0.01215067, 0.01384923, 0.01687716,\n",
       "       0.01698455, 0.01677089, 0.01176016, 0.01072664, 0.01253318,\n",
       "       0.01673623, 0.01200631, 0.011683  , 0.01125079])"
      ]
     },
     "execution_count": 129,
     "metadata": {},
     "output_type": "execute_result"
    }
   ],
   "source": [
    "rf_classifier.feature_importances_"
   ]
  },
  {
   "cell_type": "markdown",
   "id": "af739b09",
   "metadata": {},
   "source": [
    "In both cases we can tell that every single variable give a very small contribution, therefore we do not expect big improvments from the decision tree models quitting some of them."
   ]
  },
  {
   "cell_type": "markdown",
   "id": "25641b34",
   "metadata": {},
   "source": [
    "## Conclusion "
   ]
  },
  {
   "cell_type": "markdown",
   "id": "d5650fe6",
   "metadata": {},
   "source": [
    "the model that has been chosen is the Extremely Randomized Trees : \n",
    "An ensemble learning method based on decision trees, similar to Random Forest but with some additional randomness during the tree building process to further reduce variance and improve generalization performance.\n",
    "This randomness is feature selection hile splitting, and in the subsampling used in the iteration.\n",
    "\n",
    "Here the evaluation metrics of the model, that even if does not have a very high performance it is still the most conservative because of his relativley high precision fewer false positive errors and we can assume that in the case of water potability it's important to minimize the false positives.\n",
    "\n",
    "Furthermore it maximize the metrics of Gmean an F-measure, important metrics in a mild imbalanced classification problems."
   ]
  },
  {
   "cell_type": "code",
   "execution_count": 130,
   "id": "4f61148c",
   "metadata": {},
   "outputs": [
    {
     "name": "stdout",
     "output_type": "stream",
     "text": [
      "Sensitivity (True Positive Rate): 0.3851132686084142\n",
      "Specificity (True Negative Rate): 0.8627450980392157\n",
      "Train Accuracy: 1.0\n",
      "Test Accuracy: 0.6825396825396826\n",
      "Train ROC AUC: 1.0\n",
      "Test ROC AUC: 0.7008312710197347\n",
      "Sensitivity (True Positive Rate): 0.3851132686084142\n",
      "Specificity (True Negative Rate): 0.8627450980392157\n",
      "Gmean : 0.5764152883830972\n",
      "Precision: 0.6296296296296297\n",
      "Recall: 0.3851132686084142\n",
      "Specificity: 0.6296296296296297\n",
      "F-Measure: 0.47791164658634533\n",
      "confusion_matrix test:\n",
      " [[440  70]\n",
      " [190 119]]\n"
     ]
    }
   ],
   "source": [
    "evaluate_model(y_train_pred, y_test_pred, df= df_model , model = extra_trees_clf)"
   ]
  },
  {
   "cell_type": "markdown",
   "id": "56aa6472",
   "metadata": {},
   "source": [
    "## Improvement points"
   ]
  },
  {
   "cell_type": "markdown",
   "id": "647f61bc",
   "metadata": {},
   "source": [
    "Here some improvements that have not been implemented for time constraits:\n",
    "    \n",
    "- Creating other features based on specific domain knowdlege (like water indexes).\n",
    "- Splitting the variables in discrete bins and re evaluate their performance for the models that don't take the split into account during the fit (like Logistic regression or svg).\n",
    "- Create a pipline that automatic select all the combinations of the existing variables, run the models and store the result of the key metric in a df to find out the best feature selection.\n",
    "- Work on the hyperparameter optimization of the model."
   ]
  },
  {
   "cell_type": "code",
   "execution_count": null,
   "id": "35031afb",
   "metadata": {},
   "outputs": [],
   "source": []
  }
 ],
 "metadata": {
  "kernelspec": {
   "display_name": "Python 3 (ipykernel)",
   "language": "python",
   "name": "python3"
  },
  "language_info": {
   "codemirror_mode": {
    "name": "ipython",
    "version": 3
   },
   "file_extension": ".py",
   "mimetype": "text/x-python",
   "name": "python",
   "nbconvert_exporter": "python",
   "pygments_lexer": "ipython3",
   "version": "3.9.12"
  }
 },
 "nbformat": 4,
 "nbformat_minor": 5
}
